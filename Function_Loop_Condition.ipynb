{
  "nbformat": 4,
  "nbformat_minor": 0,
  "metadata": {
    "colab": {
      "name": "Function_Loop_Condition.ipynb",
      "provenance": [],
      "authorship_tag": "ABX9TyNhKbV1Tthd/Hh6dHYkqfUh",
      "include_colab_link": true
    },
    "kernelspec": {
      "name": "python3",
      "display_name": "Python 3"
    }
  },
  "cells": [
    {
      "cell_type": "markdown",
      "metadata": {
        "id": "view-in-github",
        "colab_type": "text"
      },
      "source": [
        "<a href=\"https://colab.research.google.com/github/wilaipa/data_viz/blob/main/Function_Loop_Condition.ipynb\" target=\"_parent\"><img src=\"https://colab.research.google.com/assets/colab-badge.svg\" alt=\"Open In Colab\"/></a>"
      ]
    },
    {
      "cell_type": "code",
      "metadata": {
        "colab": {
          "base_uri": "https://localhost:8080/"
        },
        "id": "xHwEUp9hW7Z6",
        "outputId": "d193c3c0-eb65-4dfa-cecc-6eab5447fefb"
      },
      "source": [
        "name = 'วิไลภา'\r\n",
        "surname = 'ชินพะวอ'\r\n",
        "ID = '613020616-67'\r\n",
        "\r\n",
        "b= f'ชื่อ {name} นามสกุล {surname} รหัส {ID}'\r\n",
        "print(b)"
      ],
      "execution_count": 18,
      "outputs": [
        {
          "output_type": "stream",
          "text": [
            "ชื่อ วิไลภา นามสกุล ชินพะวอ รหัส 613020616-67\n"
          ],
          "name": "stdout"
        }
      ]
    },
    {
      "cell_type": "markdown",
      "metadata": {
        "id": "e6oQYwbCXXTd"
      },
      "source": [
        "# Function"
      ]
    },
    {
      "cell_type": "markdown",
      "metadata": {
        "id": "q4v1GKFlXYXe"
      },
      "source": [
        "## Function template \r\n",
        "#### ทำหน้าที่รับ input มาประมวณผลออกมาเป็น output\r\n",
        "#### f(x) = y"
      ]
    },
    {
      "cell_type": "markdown",
      "metadata": {
        "id": "0g_PdWvZXcN7"
      },
      "source": [
        "\r\n",
        "backtick (`) ==> กด ~ ค้าง, alt - 9>6 (full keyboard with number)\r\n",
        "\r\n",
        "tilde (~)\r\n",
        "\r\n",
        "curly bracket ({ })\r\n",
        "\r\n",
        "square bracket ([ ])"
      ]
    },
    {
      "cell_type": "markdown",
      "metadata": {
        "id": "VghmTYDiXgpW"
      },
      "source": [
        "```python\r\n",
        "    def function_name(_Input_) :\r\n",
        "        do_something with _Input_ to get _Output_\r\n",
        "        return _Output_\r\n",
        "```"
      ]
    },
    {
      "cell_type": "markdown",
      "metadata": {
        "id": "0UK9ur0vXjlL"
      },
      "source": [
        "function มีส่วนสำคัญทั้งหมด 4 ส่วน\r\n",
        "\r\n",
        "1.   บอก python ว่าเราจะเขียนฟังก์ชั่น ชื่ออะไร  ```def function_name():``` (ขาดไม่ได้)\r\n",
        "2.   กำหนดตัวแปรที่จะเป็น input  ```_Input_``` (ขาดได้)\r\n",
        "3.   ส่วนประมวลผล ```do_something with _Input_ to get _Output_``` (ขาดไม่ได้)\r\n",
        "4.   ส่วน output ```return _Output_```(ขาดได้)\r\n",
        "\r\n"
      ]
    },
    {
      "cell_type": "markdown",
      "metadata": {
        "id": "leVj3JmEXnpq"
      },
      "source": [
        "#### ตัวอย่างการเขียน normal function\r\n"
      ]
    },
    {
      "cell_type": "code",
      "metadata": {
        "id": "8vG4WOWZXpcz"
      },
      "source": [
        "def print_name(surname,ID,name):\r\n",
        "    st = f'ชื่อ {name} นามสกุล {surname} รหัส {ID}'\r\n",
        "    return st"
      ],
      "execution_count": 19,
      "outputs": []
    },
    {
      "cell_type": "code",
      "metadata": {
        "colab": {
          "base_uri": "https://localhost:8080/",
          "height": 35
        },
        "id": "MrA6qfaEXsS9",
        "outputId": "4b38eb3b-201d-4b56-9513-c912896f01fc"
      },
      "source": [
        "print_name('ชินพะวอ','613020616-6','วิไลภา')"
      ],
      "execution_count": 20,
      "outputs": [
        {
          "output_type": "execute_result",
          "data": {
            "application/vnd.google.colaboratory.intrinsic+json": {
              "type": "string"
            },
            "text/plain": [
              "'ชื่อ วิไลภา นามสกุล ชินพะวอ รหัส 613020616-6'"
            ]
          },
          "metadata": {
            "tags": []
          },
          "execution_count": 20
        }
      ]
    },
    {
      "cell_type": "code",
      "metadata": {
        "colab": {
          "base_uri": "https://localhost:8080/"
        },
        "id": "0pjzC97SXsPm",
        "outputId": "2321ad5f-c410-4386-abf1-f8bfd17005fe"
      },
      "source": [
        "print(print_name(name='วิไลภา',surname='ชินพะวอ',ID='613020616-6'))"
      ],
      "execution_count": 21,
      "outputs": [
        {
          "output_type": "stream",
          "text": [
            "ชื่อ วิไลภา นามสกุล ชินพะวอ รหัส 613020616-6\n"
          ],
          "name": "stdout"
        }
      ]
    },
    {
      "cell_type": "markdown",
      "metadata": {
        "id": "c43z8TeIX6Na"
      },
      "source": [
        "เราใช้ เว้นวรรค (indent) เพื่อบอกขอบเขตของโปรแกรม "
      ]
    },
    {
      "cell_type": "markdown",
      "metadata": {
        "id": "iM-_AVlBX8rl"
      },
      "source": [
        "ฟังก์ชั่นไม่จำเป็นต้องมี output"
      ]
    },
    {
      "cell_type": "code",
      "metadata": {
        "id": "QmIiAx-DXsNu"
      },
      "source": [
        "def print_name2(surname,ID,name):\r\n",
        "    st = f'ชื่อ {name} นามสกุล {surname} รหัส {ID}'\r\n",
        "    print(st)"
      ],
      "execution_count": 22,
      "outputs": []
    },
    {
      "cell_type": "code",
      "metadata": {
        "colab": {
          "base_uri": "https://localhost:8080/"
        },
        "id": "hJgqW7gBX_hU",
        "outputId": "f0a022fa-31b4-4f09-9117-ae9be7d881cb"
      },
      "source": [
        "print_name2(name='วิไลภา',surname='ชินพะวอ',ID='613020616-6')"
      ],
      "execution_count": 23,
      "outputs": [
        {
          "output_type": "stream",
          "text": [
            "ชื่อ วิไลภา นามสกุล ชินพะวอ รหัส 613020616-6\n"
          ],
          "name": "stdout"
        }
      ]
    },
    {
      "cell_type": "markdown",
      "metadata": {
        "id": "Iz5nEAUsYCrz"
      },
      "source": [
        "ฟังก์ชั่นไม่จำเป็นต้องมี input"
      ]
    },
    {
      "cell_type": "code",
      "metadata": {
        "id": "jWyitBcWYGr4"
      },
      "source": [
        "def Pi():\r\n",
        "    return 3.14159265359"
      ],
      "execution_count": 24,
      "outputs": []
    },
    {
      "cell_type": "code",
      "metadata": {
        "colab": {
          "base_uri": "https://localhost:8080/"
        },
        "id": "n0on7t2VYIYe",
        "outputId": "58a50c90-d825-4a76-cff9-e7f11bc410dd"
      },
      "source": [
        "Pi()*(2**2) # หาพื้นที่ของวงกลมที่มีรัศมีเท่ากับ Pi * r^2"
      ],
      "execution_count": 25,
      "outputs": [
        {
          "output_type": "execute_result",
          "data": {
            "text/plain": [
              "12.56637061436"
            ]
          },
          "metadata": {
            "tags": []
          },
          "execution_count": 25
        }
      ]
    },
    {
      "cell_type": "markdown",
      "metadata": {
        "id": "4awo2g8sYE3p"
      },
      "source": [
        "## เราสามารถกำหนดค่า default ให้กับฟังก์ชั่นได้"
      ]
    },
    {
      "cell_type": "markdown",
      "metadata": {
        "id": "euwNrWmEYMmr"
      },
      "source": [
        "input ของ function ใน python มีสองแบบ input ที่จำเป็นต้องใส่ กับ input ที่ไม่จำเป็นต้องใส่ (มีค่า default)\r\n",
        "\r\n",
        "เราต้องเรียง input ที่จำเป็นต้องใส่ขึ้นก่อน"
      ]
    },
    {
      "cell_type": "code",
      "metadata": {
        "id": "uNTxGljKYOGx"
      },
      "source": [
        "def print_2lines_default(name,surname,ID,grade='A'):\r\n",
        "    st = f'ชื่อ {name} นามสกุล {surname} รหัส {ID}'\r\n",
        "    print (st)\r\n",
        "    st2=f'เกรดวิชา Data Viz >>> {grade}'\r\n",
        "    print(st2)"
      ],
      "execution_count": 26,
      "outputs": []
    },
    {
      "cell_type": "code",
      "metadata": {
        "colab": {
          "base_uri": "https://localhost:8080/"
        },
        "id": "4TUuSRDDYP9q",
        "outputId": "29430597-fbbb-42ae-d0c2-c98d537c2a97"
      },
      "source": [
        "print_2lines_default('วิไลภา','ชินพะวอ','613020616-6')"
      ],
      "execution_count": 27,
      "outputs": [
        {
          "output_type": "stream",
          "text": [
            "ชื่อ วิไลภา นามสกุล ชินพะวอ รหัส 613020616-6\n",
            "เกรดวิชา Data Viz >>> A\n"
          ],
          "name": "stdout"
        }
      ]
    },
    {
      "cell_type": "code",
      "metadata": {
        "colab": {
          "base_uri": "https://localhost:8080/"
        },
        "id": "zu52up9TYP6O",
        "outputId": "7b3d8488-e117-4164-9a3b-3b53f545f59a"
      },
      "source": [
        "print_2lines_default('วิไลภา','ชินพะวอ','613020616-6','A+')"
      ],
      "execution_count": 28,
      "outputs": [
        {
          "output_type": "stream",
          "text": [
            "ชื่อ วิไลภา นามสกุล ชินพะวอ รหัส 613020616-6\n",
            "เกรดวิชา Data Viz >>> A+\n"
          ],
          "name": "stdout"
        }
      ]
    },
    {
      "cell_type": "markdown",
      "metadata": {
        "id": "sbBtQxUMY3Vc"
      },
      "source": [
        "# LOOP การวนซ้ำ"
      ]
    },
    {
      "cell_type": "markdown",
      "metadata": {
        "id": "vUrNV5oCY5vl"
      },
      "source": [
        "for เป็นคำที่ใช้บอก python ว่าเรากำลังเขียน loop\r\n",
        "โดย for จะวนดึงสมาชิกจาก ```listA``` มาทำ process ```do_something```"
      ]
    },
    {
      "cell_type": "markdown",
      "metadata": {
        "id": "zS8MPnzBZCHV"
      },
      "source": [
        "```python\r\n",
        "    for each_member in listA :\r\n",
        "        do_something\r\n",
        "```"
      ]
    },
    {
      "cell_type": "markdown",
      "metadata": {
        "id": "sQQdPcLiZFv6"
      },
      "source": [
        "#### คำสั่ง for เป็นคำสั่งวนซ้ำที่ใช้ควบคุมการทำงานซ้ำๆ ในจำนวนรอบที่แน่นอน"
      ]
    },
    {
      "cell_type": "code",
      "metadata": {
        "colab": {
          "base_uri": "https://localhost:8080/"
        },
        "id": "aqdv3XSLYP4M",
        "outputId": "149f7aa7-7a53-45af-de14-30556876b6c7"
      },
      "source": [
        "for i in [1,2,3] :\r\n",
        "    o = i**2\r\n",
        "    print (f'this member = {i} after process = {o}')"
      ],
      "execution_count": 29,
      "outputs": [
        {
          "output_type": "stream",
          "text": [
            "this member = 1 after process = 1\n",
            "this member = 2 after process = 4\n",
            "this member = 3 after process = 9\n"
          ],
          "name": "stdout"
        }
      ]
    },
    {
      "cell_type": "code",
      "metadata": {
        "id": "qUWmyllMYP1_"
      },
      "source": [
        ""
      ],
      "execution_count": 29,
      "outputs": []
    },
    {
      "cell_type": "code",
      "metadata": {
        "id": "Z_9C9z6nYPzh"
      },
      "source": [
        ""
      ],
      "execution_count": 29,
      "outputs": []
    },
    {
      "cell_type": "code",
      "metadata": {
        "id": "tyePt0jDYPxW"
      },
      "source": [
        ""
      ],
      "execution_count": 29,
      "outputs": []
    }
  ]
}