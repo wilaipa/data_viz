{
  "nbformat": 4,
  "nbformat_minor": 0,
  "metadata": {
    "colab": {
      "name": "Function_Loop_Condition.ipynb",
      "provenance": [],
      "authorship_tag": "ABX9TyNVz/bA9WFll+jCM3Oc9Uym",
      "include_colab_link": true
    },
    "kernelspec": {
      "name": "python3",
      "display_name": "Python 3"
    }
  },
  "cells": [
    {
      "cell_type": "markdown",
      "metadata": {
        "id": "view-in-github",
        "colab_type": "text"
      },
      "source": [
        "<a href=\"https://colab.research.google.com/github/wilaipa/data_viz/blob/main/Function_Loop_Condition.ipynb\" target=\"_parent\"><img src=\"https://colab.research.google.com/assets/colab-badge.svg\" alt=\"Open In Colab\"/></a>"
      ]
    },
    {
      "cell_type": "code",
      "metadata": {
        "id": "6SFg2C7xfxWk"
      },
      "source": [
        "name = 'วิไลภา'\r\n"
      ],
      "execution_count": null,
      "outputs": []
    },
    {
      "cell_type": "code",
      "metadata": {
        "id": "TSEtieBkf5eV"
      },
      "source": [
        ""
      ],
      "execution_count": null,
      "outputs": []
    },
    {
      "cell_type": "markdown",
      "metadata": {
        "id": "HdN3gD4uhhLi"
      },
      "source": [
        "# def คือการกำหนดฟังก์ชัน"
      ]
    },
    {
      "cell_type": "code",
      "metadata": {
        "id": "nAYCM57Gf5a7"
      },
      "source": [
        "```python\r\n",
        "        def function_name(_Input_) :\r\n",
        "              do_something with _Input_ to get _Output_\r\n",
        "              return _Output_\r\n",
        "```"
      ],
      "execution_count": null,
      "outputs": []
    },
    {
      "cell_type": "markdown",
      "metadata": {
        "id": "526sjksSkIXX"
      },
      "source": [
        "# back"
      ]
    },
    {
      "cell_type": "markdown",
      "metadata": {
        "id": "0y-cqgqRmAsZ"
      },
      "source": [
        "function มีส่วนสำคัญทั้งหมด 4 ส่วน\r\n",
        "1. บอก python ว่าเราจะเขียนฟังก์ชัน ชื่ออะไร ```def function_name(): ```\r\n",
        "2. กำหนดตัวแปรที่จะเป็น input ``` _Input_ ``` (ขาดไม่ได้) \r\n",
        "3. ส่วนประมวลผล ``` do_something with _Input_ to get _Output_ (ขาดไม่ได้)```\r\n",
        "4. ส่วน ```output return _Output_(ขาดได้) ```\r\n"
      ]
    },
    {
      "cell_type": "markdown",
      "metadata": {
        "id": "TmitomybkNea"
      },
      "source": [
        "ตัวอย่างการเขียน normal function"
      ]
    },
    {
      "cell_type": "code",
      "metadata": {
        "id": "fCEHV5Ibf5Yu"
      },
      "source": [
        "def print_name(name,surname,ID) :\r\n",
        "      st = f'ชื่อ {name} นามสกุล {surname} รหัส {ID}'\r\n",
        "      return st"
      ],
      "execution_count": 10,
      "outputs": []
    },
    {
      "cell_type": "code",
      "metadata": {
        "colab": {
          "base_uri": "https://localhost:8080/",
          "height": 35
        },
        "id": "n1ozEB13f5We",
        "outputId": "d2bd7f49-d718-43ae-983f-5d2a86b0fcaf"
      },
      "source": [
        "print_name('วิไลภา', 'ชินพะวอ' , '613020616-6')"
      ],
      "execution_count": 11,
      "outputs": [
        {
          "output_type": "execute_result",
          "data": {
            "application/vnd.google.colaboratory.intrinsic+json": {
              "type": "string"
            },
            "text/plain": [
              "'ชื่อ วิไลภา นามสกุล ชินพะวอ รหัส 613020616-6'"
            ]
          },
          "metadata": {
            "tags": []
          },
          "execution_count": 11
        }
      ]
    },
    {
      "cell_type": "code",
      "metadata": {
        "colab": {
          "base_uri": "https://localhost:8080/"
        },
        "id": "kD7pZDBtf5Ug",
        "outputId": "9dee216d-3dca-4744-b733-7d00ae1ce629"
      },
      "source": [
        "print(print_name(name= 'วิไลภา' , surname= 'ชินพะวอ' , ID= '613020616-6'))"
      ],
      "execution_count": 14,
      "outputs": [
        {
          "output_type": "stream",
          "text": [
            "ชื่อ วิไลภา นามสกุล ชินพะวอ รหัส 613020616-6\n"
          ],
          "name": "stdout"
        }
      ]
    },
    {
      "cell_type": "markdown",
      "metadata": {
        "id": "hqjctyf-pgJr"
      },
      "source": [
        "# เราใช้เว้นวรรค (indent) เพื่อบอกขอบเขตของโปรแกรม"
      ]
    },
    {
      "cell_type": "markdown",
      "metadata": {
        "id": "GEC2Zdadp6GG"
      },
      "source": [
        "ฟังก์ชันไม่จำเป็นต้องมี output"
      ]
    },
    {
      "cell_type": "code",
      "metadata": {
        "id": "6vr3_4h7f5SE"
      },
      "source": [
        "def print_name2(surname, ID, name):\r\n",
        "      st = f'ชื่อ {name} นามสกุล {surname} รหัส {ID}'\r\n",
        "      print(st)"
      ],
      "execution_count": 28,
      "outputs": []
    },
    {
      "cell_type": "code",
      "metadata": {
        "colab": {
          "base_uri": "https://localhost:8080/"
        },
        "id": "AcQUZ0L4f5P3",
        "outputId": "745c943e-0dc8-4896-92a7-6ac924a26fcd"
      },
      "source": [
        "print_name2(name= 'วิไลภา' , surname= 'ชินพะวอ' , ID= '613020616-6')"
      ],
      "execution_count": 29,
      "outputs": [
        {
          "output_type": "stream",
          "text": [
            "ชื่อ วิไลภา นามสกุล ชินพะวอ รหัส 613020616-6\n"
          ],
          "name": "stdout"
        }
      ]
    },
    {
      "cell_type": "markdown",
      "metadata": {
        "id": "Bp8-6SpBqTWw"
      },
      "source": [
        "ฟังก์ชันไม่จำเป็นต้องมี input"
      ]
    },
    {
      "cell_type": "code",
      "metadata": {
        "id": "qicDhIIuf5Ll"
      },
      "source": [
        "def Pi():\r\n",
        "      return 3.14159265359"
      ],
      "execution_count": 30,
      "outputs": []
    },
    {
      "cell_type": "code",
      "metadata": {
        "colab": {
          "base_uri": "https://localhost:8080/"
        },
        "id": "7ZP5thkZf5JE",
        "outputId": "ed345e75-d602-4aee-8e3c-563acd94a5a6"
      },
      "source": [
        "2*Pi()*2 # หาพื้นที่ของวงกลมที่มีรัศมีเท่ากับ Pi * r^2 "
      ],
      "execution_count": 31,
      "outputs": [
        {
          "output_type": "execute_result",
          "data": {
            "text/plain": [
              "12.56637061436"
            ]
          },
          "metadata": {
            "tags": []
          },
          "execution_count": 31
        }
      ]
    },
    {
      "cell_type": "markdown",
      "metadata": {
        "id": "AUHv175RrZK1"
      },
      "source": [
        "# เราสามารถกำหนดค่า default ให้กับฟังก์ชันได้"
      ]
    },
    {
      "cell_type": "markdown",
      "metadata": {
        "id": "ydaE2ioGxufg"
      },
      "source": [
        "input ของ function ใน python มีสองแบบ "
      ]
    },
    {
      "cell_type": "code",
      "metadata": {
        "id": "l-k8nKe4f5G8"
      },
      "source": [
        "def print_2lines_default(name,surname,ID,grade='F') :\r\n",
        "      st1 = f'ชื่อ {name} นามสกุล {surname} รหัส {ID}'\r\n",
        "      print (st1)\r\n",
        "      st2 = f'เกรดวิชา Data Viz >>> {grade}'\r\n",
        "      print(st2)"
      ],
      "execution_count": 32,
      "outputs": []
    },
    {
      "cell_type": "markdown",
      "metadata": {
        "id": "LNke32E80kU1"
      },
      "source": [
        "# LOOP การวนซ้ำ"
      ]
    },
    {
      "cell_type": "code",
      "metadata": {
        "id": "p0C-_534f5FH"
      },
      "source": [
        "for เป็นคำที่ใช้บอก python ว่าเรากำลังเขียน loop โดย for จะวนดึงสมาชิกจาก ```_listA_``` มาทำ process do_somthing"
      ],
      "execution_count": null,
      "outputs": []
    },
    {
      "cell_type": "code",
      "metadata": {
        "id": "32Ak-kwBf5Cj"
      },
      "source": [
        "for each_member in listA :\r\n",
        "  do_something"
      ],
      "execution_count": null,
      "outputs": []
    },
    {
      "cell_type": "markdown",
      "metadata": {
        "id": "0UEX0zRc1L80"
      },
      "source": [
        "คำสั่ง for เป็นคำสั่งวนซ้ำที่ใช้ควบคุมการทำงานซ้ำๆ ในจำนวนรอบที่แน่นอน"
      ]
    },
    {
      "cell_type": "code",
      "metadata": {
        "colab": {
          "base_uri": "https://localhost:8080/"
        },
        "id": "Jmx5_wdhf4wL",
        "outputId": "fc674956-9b00-418c-c536-c27f1a316b3f"
      },
      "source": [
        "for i in [1,2,3] :\r\n",
        "    o = i**2\r\n",
        "    print(f' this member = {i} after process = {0} ')"
      ],
      "execution_count": 34,
      "outputs": [
        {
          "output_type": "stream",
          "text": [
            " this member = 1 after process = 0 \n",
            " this member = 2 after process = 0 \n",
            " this member = 3 after process = 0 \n"
          ],
          "name": "stdout"
        }
      ]
    },
    {
      "cell_type": "code",
      "metadata": {
        "id": "Rx8f686sf4tT"
      },
      "source": [
        ""
      ],
      "execution_count": null,
      "outputs": []
    }
  ]
}