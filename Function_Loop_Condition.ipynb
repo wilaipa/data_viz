{
  "nbformat": 4,
  "nbformat_minor": 0,
  "metadata": {
    "colab": {
      "name": "Function_Loop_Condition.ipynb",
      "provenance": [],
      "authorship_tag": "ABX9TyPcFzP34P+byImsqvQr8GfL",
      "include_colab_link": true
    },
    "kernelspec": {
      "name": "python3",
      "display_name": "Python 3"
    }
  },
  "cells": [
    {
      "cell_type": "markdown",
      "metadata": {
        "id": "view-in-github",
        "colab_type": "text"
      },
      "source": [
        "<a href=\"https://colab.research.google.com/github/wilaipa/data_viz/blob/main/Function_Loop_Condition.ipynb\" target=\"_parent\"><img src=\"https://colab.research.google.com/assets/colab-badge.svg\" alt=\"Open In Colab\"/></a>"
      ]
    },
    {
      "cell_type": "code",
      "metadata": {
        "colab": {
          "base_uri": "https://localhost:8080/"
        },
        "id": "xHwEUp9hW7Z6",
        "outputId": "fceefc8c-3c8e-4d20-f5ee-aa908ecd2980"
      },
      "source": [
        "name = 'วิไลภา'\r\n",
        "surname = 'ชินพะวอ'\r\n",
        "ID = '613020616-67'\r\n",
        "\r\n",
        "b= f'ชื่อ {name} นามสกุล {surname} รหัส {ID}'\r\n",
        "print(b)"
      ],
      "execution_count": 1,
      "outputs": [
        {
          "output_type": "stream",
          "text": [
            "ชื่อ วิไลภา นามสกุล ชินพะวอ รหัส 613020616-67\n"
          ],
          "name": "stdout"
        }
      ]
    },
    {
      "cell_type": "markdown",
      "metadata": {
        "id": "e6oQYwbCXXTd"
      },
      "source": [
        "# Function"
      ]
    },
    {
      "cell_type": "markdown",
      "metadata": {
        "id": "q4v1GKFlXYXe"
      },
      "source": [
        "## Function template \r\n",
        "#### ทำหน้าที่รับ input มาประมวณผลออกมาเป็น output\r\n",
        "#### f(x) = y"
      ]
    },
    {
      "cell_type": "markdown",
      "metadata": {
        "id": "0g_PdWvZXcN7"
      },
      "source": [
        "\r\n",
        "backtick (`) ==> กด ~ ค้าง, alt - 9>6 (full keyboard with number)\r\n",
        "\r\n",
        "tilde (~)\r\n",
        "\r\n",
        "curly bracket ({ })\r\n",
        "\r\n",
        "square bracket ([ ])"
      ]
    },
    {
      "cell_type": "markdown",
      "metadata": {
        "id": "VghmTYDiXgpW"
      },
      "source": [
        "```python\r\n",
        "    def function_name(_Input_) :\r\n",
        "        do_something with _Input_ to get _Output_\r\n",
        "        return _Output_\r\n",
        "```"
      ]
    },
    {
      "cell_type": "markdown",
      "metadata": {
        "id": "0UK9ur0vXjlL"
      },
      "source": [
        "function มีส่วนสำคัญทั้งหมด 4 ส่วน\r\n",
        "\r\n",
        "1.   บอก python ว่าเราจะเขียนฟังก์ชั่น ชื่ออะไร  ```def function_name():``` (ขาดไม่ได้)\r\n",
        "2.   กำหนดตัวแปรที่จะเป็น input  ```_Input_``` (ขาดได้)\r\n",
        "3.   ส่วนประมวลผล ```do_something with _Input_ to get _Output_``` (ขาดไม่ได้)\r\n",
        "4.   ส่วน output ```return _Output_```(ขาดได้)\r\n",
        "\r\n"
      ]
    },
    {
      "cell_type": "markdown",
      "metadata": {
        "id": "leVj3JmEXnpq"
      },
      "source": [
        "#### ตัวอย่างการเขียน normal function\r\n"
      ]
    },
    {
      "cell_type": "code",
      "metadata": {
        "id": "8vG4WOWZXpcz"
      },
      "source": [
        "def print_name(surname,ID,name):\r\n",
        "    st = f'ชื่อ {name} นามสกุล {surname} รหัส {ID}'\r\n",
        "    return st"
      ],
      "execution_count": 2,
      "outputs": []
    },
    {
      "cell_type": "code",
      "metadata": {
        "colab": {
          "base_uri": "https://localhost:8080/",
          "height": 35
        },
        "id": "MrA6qfaEXsS9",
        "outputId": "ac1fd5ce-afe6-45d8-c205-510814275a1e"
      },
      "source": [
        "print_name('ชินพะวอ','613020616-6','วิไลภา')"
      ],
      "execution_count": 3,
      "outputs": [
        {
          "output_type": "execute_result",
          "data": {
            "application/vnd.google.colaboratory.intrinsic+json": {
              "type": "string"
            },
            "text/plain": [
              "'ชื่อ วิไลภา นามสกุล ชินพะวอ รหัส 613020616-6'"
            ]
          },
          "metadata": {
            "tags": []
          },
          "execution_count": 3
        }
      ]
    },
    {
      "cell_type": "code",
      "metadata": {
        "colab": {
          "base_uri": "https://localhost:8080/"
        },
        "id": "0pjzC97SXsPm",
        "outputId": "45fe2dbf-1e71-4a6f-90f2-e90fa547769d"
      },
      "source": [
        "print(print_name(name='วิไลภา',surname='ชินพะวอ',ID='613020616-6'))"
      ],
      "execution_count": 4,
      "outputs": [
        {
          "output_type": "stream",
          "text": [
            "ชื่อ วิไลภา นามสกุล ชินพะวอ รหัส 613020616-6\n"
          ],
          "name": "stdout"
        }
      ]
    },
    {
      "cell_type": "markdown",
      "metadata": {
        "id": "c43z8TeIX6Na"
      },
      "source": [
        "เราใช้ เว้นวรรค (indent) เพื่อบอกขอบเขตของโปรแกรม "
      ]
    },
    {
      "cell_type": "markdown",
      "metadata": {
        "id": "iM-_AVlBX8rl"
      },
      "source": [
        "ฟังก์ชั่นไม่จำเป็นต้องมี output"
      ]
    },
    {
      "cell_type": "code",
      "metadata": {
        "id": "QmIiAx-DXsNu"
      },
      "source": [
        "def print_name2(surname,ID,name):\r\n",
        "    st = f'ชื่อ {name} นามสกุล {surname} รหัส {ID}'\r\n",
        "    print(st)"
      ],
      "execution_count": 5,
      "outputs": []
    },
    {
      "cell_type": "code",
      "metadata": {
        "colab": {
          "base_uri": "https://localhost:8080/"
        },
        "id": "hJgqW7gBX_hU",
        "outputId": "e0f6d713-a8fc-4615-da23-4c0834b47c82"
      },
      "source": [
        "print_name2(name='วิไลภา',surname='ชินพะวอ',ID='613020616-6')"
      ],
      "execution_count": 6,
      "outputs": [
        {
          "output_type": "stream",
          "text": [
            "ชื่อ วิไลภา นามสกุล ชินพะวอ รหัส 613020616-6\n"
          ],
          "name": "stdout"
        }
      ]
    },
    {
      "cell_type": "markdown",
      "metadata": {
        "id": "Iz5nEAUsYCrz"
      },
      "source": [
        "ฟังก์ชั่นไม่จำเป็นต้องมี input"
      ]
    },
    {
      "cell_type": "code",
      "metadata": {
        "id": "jWyitBcWYGr4"
      },
      "source": [
        "def Pi():\r\n",
        "    return 3.14159265359"
      ],
      "execution_count": 7,
      "outputs": []
    },
    {
      "cell_type": "code",
      "metadata": {
        "colab": {
          "base_uri": "https://localhost:8080/"
        },
        "id": "n0on7t2VYIYe",
        "outputId": "f23bf221-0326-4356-dd97-d32b92578d3f"
      },
      "source": [
        "Pi()*(2**2) # หาพื้นที่ของวงกลมที่มีรัศมีเท่ากับ Pi * r^2"
      ],
      "execution_count": 8,
      "outputs": [
        {
          "output_type": "execute_result",
          "data": {
            "text/plain": [
              "12.56637061436"
            ]
          },
          "metadata": {
            "tags": []
          },
          "execution_count": 8
        }
      ]
    },
    {
      "cell_type": "markdown",
      "metadata": {
        "id": "4awo2g8sYE3p"
      },
      "source": [
        "## เราสามารถกำหนดค่า default ให้กับฟังก์ชั่นได้"
      ]
    },
    {
      "cell_type": "markdown",
      "metadata": {
        "id": "euwNrWmEYMmr"
      },
      "source": [
        "input ของ function ใน python มีสองแบบ input ที่จำเป็นต้องใส่ กับ input ที่ไม่จำเป็นต้องใส่ (มีค่า default)\r\n",
        "\r\n",
        "เราต้องเรียง input ที่จำเป็นต้องใส่ขึ้นก่อน"
      ]
    },
    {
      "cell_type": "code",
      "metadata": {
        "id": "uNTxGljKYOGx"
      },
      "source": [
        "def print_2lines_default(name,surname,ID,grade='A'):\r\n",
        "    st = f'ชื่อ {name} นามสกุล {surname} รหัส {ID}'\r\n",
        "    print (st)\r\n",
        "    st2=f'เกรดวิชา Data Viz >>> {grade}'\r\n",
        "    print(st2)"
      ],
      "execution_count": 9,
      "outputs": []
    },
    {
      "cell_type": "code",
      "metadata": {
        "colab": {
          "base_uri": "https://localhost:8080/"
        },
        "id": "4TUuSRDDYP9q",
        "outputId": "84df56f9-47a1-48f9-ff7d-447690903ca2"
      },
      "source": [
        "print_2lines_default('วิไลภา','ชินพะวอ','613020616-6')"
      ],
      "execution_count": 10,
      "outputs": [
        {
          "output_type": "stream",
          "text": [
            "ชื่อ วิไลภา นามสกุล ชินพะวอ รหัส 613020616-6\n",
            "เกรดวิชา Data Viz >>> A\n"
          ],
          "name": "stdout"
        }
      ]
    },
    {
      "cell_type": "code",
      "metadata": {
        "colab": {
          "base_uri": "https://localhost:8080/"
        },
        "id": "zu52up9TYP6O",
        "outputId": "d885633a-f0ba-41b7-d96e-13a1e1c70c1c"
      },
      "source": [
        "print_2lines_default('วิไลภา','ชินพะวอ','613020616-6','A+')"
      ],
      "execution_count": 11,
      "outputs": [
        {
          "output_type": "stream",
          "text": [
            "ชื่อ วิไลภา นามสกุล ชินพะวอ รหัส 613020616-6\n",
            "เกรดวิชา Data Viz >>> A+\n"
          ],
          "name": "stdout"
        }
      ]
    },
    {
      "cell_type": "markdown",
      "metadata": {
        "id": "sbBtQxUMY3Vc"
      },
      "source": [
        "# LOOP การวนซ้ำ"
      ]
    },
    {
      "cell_type": "markdown",
      "metadata": {
        "id": "vUrNV5oCY5vl"
      },
      "source": [
        "for เป็นคำที่ใช้บอก python ว่าเรากำลังเขียน loop\r\n",
        "โดย for จะวนดึงสมาชิกจาก ```listA``` มาทำ process ```do_something```"
      ]
    },
    {
      "cell_type": "markdown",
      "metadata": {
        "id": "zS8MPnzBZCHV"
      },
      "source": [
        "```python\r\n",
        "    for each_member in listA :\r\n",
        "        do_something\r\n",
        "```"
      ]
    },
    {
      "cell_type": "markdown",
      "metadata": {
        "id": "sQQdPcLiZFv6"
      },
      "source": [
        "#### คำสั่ง for เป็นคำสั่งวนซ้ำที่ใช้ควบคุมการทำงานซ้ำๆ ในจำนวนรอบที่แน่นอน"
      ]
    },
    {
      "cell_type": "code",
      "metadata": {
        "colab": {
          "base_uri": "https://localhost:8080/"
        },
        "id": "aqdv3XSLYP4M",
        "outputId": "e079af35-ceba-4e99-b9bc-4350d946c2dd"
      },
      "source": [
        "for i in [1,2,3] :\r\n",
        "    o = i**2\r\n",
        "    print (f'this member = {i} after process = {o}')"
      ],
      "execution_count": 12,
      "outputs": [
        {
          "output_type": "stream",
          "text": [
            "this member = 1 after process = 1\n",
            "this member = 2 after process = 4\n",
            "this member = 3 after process = 9\n"
          ],
          "name": "stdout"
        }
      ]
    },
    {
      "cell_type": "markdown",
      "metadata": {
        "id": "yPU1EeYgeVp9"
      },
      "source": [
        "#### ตัวอย่างการใช้คำสั่ง for ในการวนซ้ำค่าของ i เมื่อ i คือ 'Dinsor' และคำสั่ง print(f'{i} -> /') เพื่อกำหนดให้ผลลัพธ์แสดงสัญลักษณ์ -> /  จากนั้นเพิ่มคำสั่ง print(' ') อีกครั้งเพื่อให้ผลลัพธ์มีการเว้นวรรค¶ "
      ]
    },
    {
      "cell_type": "code",
      "metadata": {
        "id": "qUWmyllMYP1_",
        "outputId": "d7875d08-4968-4457-cc73-a463adf4c9bd",
        "colab": {
          "base_uri": "https://localhost:8080/"
        }
      },
      "source": [
        "for i in 'Dinsor' :  #แบคสแร้ดเอ็น คือขึ้นบรรทัดใหม่\r\n",
        "     print(f'{i} -> / ' )"
      ],
      "execution_count": 13,
      "outputs": [
        {
          "output_type": "stream",
          "text": [
            "D -> / \n",
            "i -> / \n",
            "n -> / \n",
            "s -> / \n",
            "o -> / \n",
            "r -> / \n"
          ],
          "name": "stdout"
        }
      ]
    },
    {
      "cell_type": "code",
      "metadata": {
        "id": "dNH906eDeYgF",
        "outputId": "cdd38be5-d194-4bdc-8402-0b0e8ad839ac",
        "colab": {
          "base_uri": "https://localhost:8080/"
        }
      },
      "source": [
        "for i in 'Dinsor'  :\r\n",
        "      print(f'{i} -> / ' ,end = '')  #สั่งให้  print  แบบ ไม่เว้นบรรทัด"
      ],
      "execution_count": 14,
      "outputs": [
        {
          "output_type": "stream",
          "text": [
            "D -> / i -> / n -> / s -> / o -> / r -> / "
          ],
          "name": "stdout"
        }
      ]
    },
    {
      "cell_type": "code",
      "metadata": {
        "id": "Z_9C9z6nYPzh",
        "outputId": "040e91e8-b343-4b4f-cbf7-cf8d282a51fd",
        "colab": {
          "base_uri": "https://localhost:8080/"
        }
      },
      "source": [
        "for i in 'Dinsor' :\r\n",
        "    print(f'{i} -> / ' ,end = ',') #สั่งให้ print แบบ ไม่เว้นบรรทัด"
      ],
      "execution_count": 15,
      "outputs": [
        {
          "output_type": "stream",
          "text": [
            "D -> / ,i -> / ,n -> / ,s -> / ,o -> / ,r -> / ,"
          ],
          "name": "stdout"
        }
      ]
    },
    {
      "cell_type": "markdown",
      "metadata": {
        "id": "IqjtRy98eep0"
      },
      "source": [
        "##สร้าง list ตัวเลขแบบอัตโนมัติ range()"
      ]
    },
    {
      "cell_type": "code",
      "metadata": {
        "id": "luQ_UyAUeY8K",
        "outputId": "0bf70ce5-d423-4b2f-b8ca-2479b2de851f",
        "colab": {
          "base_uri": "https://localhost:8080/"
        }
      },
      "source": [
        "range5_output = range(5)\r\n",
        "print(list(range5_output))"
      ],
      "execution_count": 16,
      "outputs": [
        {
          "output_type": "stream",
          "text": [
            "[0, 1, 2, 3, 4]\n"
          ],
          "name": "stdout"
        }
      ]
    },
    {
      "cell_type": "code",
      "metadata": {
        "id": "mkv8ITDoeY5g",
        "outputId": "e9be5271-c014-4b1a-920f-6af8341edd42",
        "colab": {
          "base_uri": "https://localhost:8080/"
        }
      },
      "source": [
        "for i in range(100):\r\n",
        "     print('MX',end=' ')"
      ],
      "execution_count": 17,
      "outputs": [
        {
          "output_type": "stream",
          "text": [
            "MX MX MX MX MX MX MX MX MX MX MX MX MX MX MX MX MX MX MX MX MX MX MX MX MX MX MX MX MX MX MX MX MX MX MX MX MX MX MX MX MX MX MX MX MX MX MX MX MX MX MX MX MX MX MX MX MX MX MX MX MX MX MX MX MX MX MX MX MX MX MX MX MX MX MX MX MX MX MX MX MX MX MX MX MX MX MX MX MX MX MX MX MX MX MX MX MX MX MX MX "
          ],
          "name": "stdout"
        }
      ]
    },
    {
      "cell_type": "code",
      "metadata": {
        "id": "awUy-tpYeY0U",
        "outputId": "482ea2af-ff96-47f3-9658-cec3af11605a",
        "colab": {
          "base_uri": "https://localhost:8080/"
        }
      },
      "source": [
        "list(range(1,11)) #เริ่มต้นเป็นวงกลมโปร่ง เหมือน list slicing"
      ],
      "execution_count": 18,
      "outputs": [
        {
          "output_type": "execute_result",
          "data": {
            "text/plain": [
              "[1, 2, 3, 4, 5, 6, 7, 8, 9, 10]"
            ]
          },
          "metadata": {
            "tags": []
          },
          "execution_count": 18
        }
      ]
    },
    {
      "cell_type": "code",
      "metadata": {
        "id": "KHQbYbU9eYx8",
        "outputId": "f2579c9d-28b2-4bce-e15b-d39fa27663da",
        "colab": {
          "base_uri": "https://localhost:8080/"
        }
      },
      "source": [
        "list(range(-3,20,4)) #สร้าง list ของตัวเลข"
      ],
      "execution_count": 19,
      "outputs": [
        {
          "output_type": "execute_result",
          "data": {
            "text/plain": [
              "[-3, 1, 5, 9, 13, 17]"
            ]
          },
          "metadata": {
            "tags": []
          },
          "execution_count": 19
        }
      ]
    },
    {
      "cell_type": "markdown",
      "metadata": {
        "id": "yHfkZnJOervk"
      },
      "source": [
        "##loop in loop\r\n",
        "ใช้  loop ซ้อน loop"
      ]
    },
    {
      "cell_type": "code",
      "metadata": {
        "id": "O2CrOAeCeYvU",
        "outputId": "8389cc83-4522-4c00-efcc-63dc67ea7975",
        "colab": {
          "base_uri": "https://localhost:8080/"
        }
      },
      "source": [
        "for name1 in range(2,5) : #2,3,4\r\n",
        "     print(f' now name1 = {name1}')\r\n",
        "     for name2 in range(1,13) : #วิ่งตั้งแต่ 1 ถึง 12\r\n",
        "          print(name1, ' x ' ,name2, ' = ' , name1*name2)\r\n",
        "     print('the inner loop is end')"
      ],
      "execution_count": 20,
      "outputs": [
        {
          "output_type": "stream",
          "text": [
            " now name1 = 2\n",
            "2  x  1  =  2\n",
            "2  x  2  =  4\n",
            "2  x  3  =  6\n",
            "2  x  4  =  8\n",
            "2  x  5  =  10\n",
            "2  x  6  =  12\n",
            "2  x  7  =  14\n",
            "2  x  8  =  16\n",
            "2  x  9  =  18\n",
            "2  x  10  =  20\n",
            "2  x  11  =  22\n",
            "2  x  12  =  24\n",
            "the inner loop is end\n",
            " now name1 = 3\n",
            "3  x  1  =  3\n",
            "3  x  2  =  6\n",
            "3  x  3  =  9\n",
            "3  x  4  =  12\n",
            "3  x  5  =  15\n",
            "3  x  6  =  18\n",
            "3  x  7  =  21\n",
            "3  x  8  =  24\n",
            "3  x  9  =  27\n",
            "3  x  10  =  30\n",
            "3  x  11  =  33\n",
            "3  x  12  =  36\n",
            "the inner loop is end\n",
            " now name1 = 4\n",
            "4  x  1  =  4\n",
            "4  x  2  =  8\n",
            "4  x  3  =  12\n",
            "4  x  4  =  16\n",
            "4  x  5  =  20\n",
            "4  x  6  =  24\n",
            "4  x  7  =  28\n",
            "4  x  8  =  32\n",
            "4  x  9  =  36\n",
            "4  x  10  =  40\n",
            "4  x  11  =  44\n",
            "4  x  12  =  48\n",
            "the inner loop is end\n"
          ],
          "name": "stdout"
        }
      ]
    },
    {
      "cell_type": "markdown",
      "metadata": {
        "id": "M1WYt0CievWk"
      },
      "source": [
        "##loop in function"
      ]
    },
    {
      "cell_type": "code",
      "metadata": {
        "id": "qipxNOZreYsw"
      },
      "source": [
        "def print_feelings(I,onepiece,feeling = 'มี') :\r\n",
        "     for monsta in onepiece :\r\n",
        "          print(f'{I} {feeling} {onepiece}')"
      ],
      "execution_count": 31,
      "outputs": []
    },
    {
      "cell_type": "code",
      "metadata": {
        "id": "ZocIJNEZeYqP"
      },
      "source": [
        "list_onepiece = ['Luffy','Zoro','Sunji','Nami','Usopp','Brook','Robin','Onepiece1']"
      ],
      "execution_count": 44,
      "outputs": []
    },
    {
      "cell_type": "code",
      "metadata": {
        "id": "utaGJPY8eYnd",
        "outputId": "392cce75-0141-4626-a58f-61653051f575",
        "colab": {
          "base_uri": "https://localhost:8080/"
        }
      },
      "source": [
        "print_feelings('Onepiece1',list_onepiece)"
      ],
      "execution_count": 45,
      "outputs": [
        {
          "output_type": "stream",
          "text": [
            "Onepiece1 มี ['Luffy', 'Zoro', 'Sunji', 'Nami', 'Usopp', 'Brook', 'Robin', 'Onepiece1']\n",
            "Onepiece1 มี ['Luffy', 'Zoro', 'Sunji', 'Nami', 'Usopp', 'Brook', 'Robin', 'Onepiece1']\n",
            "Onepiece1 มี ['Luffy', 'Zoro', 'Sunji', 'Nami', 'Usopp', 'Brook', 'Robin', 'Onepiece1']\n",
            "Onepiece1 มี ['Luffy', 'Zoro', 'Sunji', 'Nami', 'Usopp', 'Brook', 'Robin', 'Onepiece1']\n",
            "Onepiece1 มี ['Luffy', 'Zoro', 'Sunji', 'Nami', 'Usopp', 'Brook', 'Robin', 'Onepiece1']\n",
            "Onepiece1 มี ['Luffy', 'Zoro', 'Sunji', 'Nami', 'Usopp', 'Brook', 'Robin', 'Onepiece1']\n",
            "Onepiece1 มี ['Luffy', 'Zoro', 'Sunji', 'Nami', 'Usopp', 'Brook', 'Robin', 'Onepiece1']\n",
            "Onepiece1 มี ['Luffy', 'Zoro', 'Sunji', 'Nami', 'Usopp', 'Brook', 'Robin', 'Onepiece1']\n"
          ],
          "name": "stdout"
        }
      ]
    },
    {
      "cell_type": "code",
      "metadata": {
        "id": "YFuAfgn5eYld",
        "outputId": "1cf243ee-51cf-4c30-d149-967ce882b290",
        "colab": {
          "base_uri": "https://localhost:8080/"
        }
      },
      "source": [
        "print_feelings('Onepiece1',list_onepiece,feeling='มี')"
      ],
      "execution_count": 46,
      "outputs": [
        {
          "output_type": "stream",
          "text": [
            "Onepiece1 มี ['Luffy', 'Zoro', 'Sunji', 'Nami', 'Usopp', 'Brook', 'Robin', 'Onepiece1']\n",
            "Onepiece1 มี ['Luffy', 'Zoro', 'Sunji', 'Nami', 'Usopp', 'Brook', 'Robin', 'Onepiece1']\n",
            "Onepiece1 มี ['Luffy', 'Zoro', 'Sunji', 'Nami', 'Usopp', 'Brook', 'Robin', 'Onepiece1']\n",
            "Onepiece1 มี ['Luffy', 'Zoro', 'Sunji', 'Nami', 'Usopp', 'Brook', 'Robin', 'Onepiece1']\n",
            "Onepiece1 มี ['Luffy', 'Zoro', 'Sunji', 'Nami', 'Usopp', 'Brook', 'Robin', 'Onepiece1']\n",
            "Onepiece1 มี ['Luffy', 'Zoro', 'Sunji', 'Nami', 'Usopp', 'Brook', 'Robin', 'Onepiece1']\n",
            "Onepiece1 มี ['Luffy', 'Zoro', 'Sunji', 'Nami', 'Usopp', 'Brook', 'Robin', 'Onepiece1']\n",
            "Onepiece1 มี ['Luffy', 'Zoro', 'Sunji', 'Nami', 'Usopp', 'Brook', 'Robin', 'Onepiece1']\n"
          ],
          "name": "stdout"
        }
      ]
    },
    {
      "cell_type": "code",
      "metadata": {
        "id": "tyePt0jDYPxW",
        "outputId": "98623042-df85-490e-da1e-d1c875b876a0",
        "colab": {
          "base_uri": "https://localhost:8080/"
        }
      },
      "source": [
        "print_feelings('Onepiece1',list_onepiece,'มี')"
      ],
      "execution_count": 47,
      "outputs": [
        {
          "output_type": "stream",
          "text": [
            "Onepiece1 มี ['Luffy', 'Zoro', 'Sunji', 'Nami', 'Usopp', 'Brook', 'Robin', 'Onepiece1']\n",
            "Onepiece1 มี ['Luffy', 'Zoro', 'Sunji', 'Nami', 'Usopp', 'Brook', 'Robin', 'Onepiece1']\n",
            "Onepiece1 มี ['Luffy', 'Zoro', 'Sunji', 'Nami', 'Usopp', 'Brook', 'Robin', 'Onepiece1']\n",
            "Onepiece1 มี ['Luffy', 'Zoro', 'Sunji', 'Nami', 'Usopp', 'Brook', 'Robin', 'Onepiece1']\n",
            "Onepiece1 มี ['Luffy', 'Zoro', 'Sunji', 'Nami', 'Usopp', 'Brook', 'Robin', 'Onepiece1']\n",
            "Onepiece1 มี ['Luffy', 'Zoro', 'Sunji', 'Nami', 'Usopp', 'Brook', 'Robin', 'Onepiece1']\n",
            "Onepiece1 มี ['Luffy', 'Zoro', 'Sunji', 'Nami', 'Usopp', 'Brook', 'Robin', 'Onepiece1']\n",
            "Onepiece1 มี ['Luffy', 'Zoro', 'Sunji', 'Nami', 'Usopp', 'Brook', 'Robin', 'Onepiece1']\n"
          ],
          "name": "stdout"
        }
      ]
    },
    {
      "cell_type": "markdown",
      "metadata": {
        "id": "3jZh6HnMf2tN"
      },
      "source": [
        "### looping in dict\r\n",
        "#### ทำการวนลูปในค่า dict โดยที่เรากำหนดตัว key และvalueขึ้นมา ได้ดังนี้\r\n"
      ]
    },
    {
      "cell_type": "code",
      "metadata": {
        "id": "K3sEgbNff5ER",
        "outputId": "e0daee33-f382-48c3-8c47-4186fca5a594",
        "colab": {
          "base_uri": "https://localhost:8080/"
        }
      },
      "source": [
        "name_grade = {'1' : 'Luffy','2' : 'Zoro','3' : 'Sunji','4' : 'Brook'}\r\n",
        "name_grade "
      ],
      "execution_count": 48,
      "outputs": [
        {
          "output_type": "execute_result",
          "data": {
            "text/plain": [
              "{'1': 'Luffy', '2': 'Zoro', '3': 'Sunji', '4': 'Brook'}"
            ]
          },
          "metadata": {
            "tags": []
          },
          "execution_count": 48
        }
      ]
    },
    {
      "cell_type": "code",
      "metadata": {
        "id": "rUsIypH_f6I_",
        "outputId": "6830d43e-39b6-4f26-80ef-172a2cb60857",
        "colab": {
          "base_uri": "https://localhost:8080/",
          "height": 35
        }
      },
      "source": [
        "name_grade['1']"
      ],
      "execution_count": 51,
      "outputs": [
        {
          "output_type": "execute_result",
          "data": {
            "application/vnd.google.colaboratory.intrinsic+json": {
              "type": "string"
            },
            "text/plain": [
              "'Luffy'"
            ]
          },
          "metadata": {
            "tags": []
          },
          "execution_count": 51
        }
      ]
    },
    {
      "cell_type": "code",
      "metadata": {
        "id": "MapN5uYjf6Es",
        "outputId": "f51b7d18-db88-4b5c-f019-7b4949eb768e",
        "colab": {
          "base_uri": "https://localhost:8080/"
        }
      },
      "source": [
        "for i in name_grade.keys():\r\n",
        "    print(i)"
      ],
      "execution_count": 52,
      "outputs": [
        {
          "output_type": "stream",
          "text": [
            "1\n",
            "2\n",
            "3\n",
            "4\n"
          ],
          "name": "stdout"
        }
      ]
    },
    {
      "cell_type": "code",
      "metadata": {
        "id": "lp4L8Fetf6Bh",
        "outputId": "6c27c478-ed81-48d5-91ba-0aa09fd43cf0",
        "colab": {
          "base_uri": "https://localhost:8080/"
        }
      },
      "source": [
        "for i in name_grade.keys():\r\n",
        "    print(f'{i} คือ {name_grade[i]}')"
      ],
      "execution_count": 55,
      "outputs": [
        {
          "output_type": "stream",
          "text": [
            "1 คือ Luffy\n",
            "2 คือ Zoro\n",
            "3 คือ Sunji\n",
            "4 คือ Brook\n"
          ],
          "name": "stdout"
        }
      ]
    },
    {
      "cell_type": "markdown",
      "metadata": {
        "id": "VrcWYBkVgdNe"
      },
      "source": [
        "##Conditional คือ เงื่อนไข/ประโยคงื่อนไข\r\n",
        "คำลั่งจะมี if "
      ]
    },
    {
      "cell_type": "markdown",
      "metadata": {
        "id": "VuMp-t62gf6t"
      },
      "source": [
        "##### True / False\r\n",
        "##### การวนลูปโดยมีเงื่อนไขต่างๆมาเกี่ยวข้อง โดยมี pattern ดังนี้\r\n"
      ]
    },
    {
      "cell_type": "markdown",
      "metadata": {
        "id": "u_k9gkAUgkcY"
      },
      "source": [
        "```Python\r\n",
        "if condition1 :\r\n",
        "    do something\r\n",
        "elif condition2 :  #elif คือ else if\r\n",
        "    do another thing\r\n",
        "else:\r\n",
        "    do ...\r\n",
        "```\r\n",
        "    "
      ]
    },
    {
      "cell_type": "code",
      "metadata": {
        "id": "D3DC0g4nf5-W",
        "outputId": "b7be5cd5-0056-4c71-fb70-6b409dee3592",
        "colab": {
          "base_uri": "https://localhost:8080/"
        }
      },
      "source": [
        "for name1 in list_onepiece :\r\n",
        "    for name2 in list_onepiece :\r\n",
        "            print(name1,'มี',name2)"
      ],
      "execution_count": 56,
      "outputs": [
        {
          "output_type": "stream",
          "text": [
            "Luffy มี Luffy\n",
            "Luffy มี Zoro\n",
            "Luffy มี Sunji\n",
            "Luffy มี Nami\n",
            "Luffy มี Usopp\n",
            "Luffy มี Brook\n",
            "Luffy มี Robin\n",
            "Luffy มี Onepiece1\n",
            "Zoro มี Luffy\n",
            "Zoro มี Zoro\n",
            "Zoro มี Sunji\n",
            "Zoro มี Nami\n",
            "Zoro มี Usopp\n",
            "Zoro มี Brook\n",
            "Zoro มี Robin\n",
            "Zoro มี Onepiece1\n",
            "Sunji มี Luffy\n",
            "Sunji มี Zoro\n",
            "Sunji มี Sunji\n",
            "Sunji มี Nami\n",
            "Sunji มี Usopp\n",
            "Sunji มี Brook\n",
            "Sunji มี Robin\n",
            "Sunji มี Onepiece1\n",
            "Nami มี Luffy\n",
            "Nami มี Zoro\n",
            "Nami มี Sunji\n",
            "Nami มี Nami\n",
            "Nami มี Usopp\n",
            "Nami มี Brook\n",
            "Nami มี Robin\n",
            "Nami มี Onepiece1\n",
            "Usopp มี Luffy\n",
            "Usopp มี Zoro\n",
            "Usopp มี Sunji\n",
            "Usopp มี Nami\n",
            "Usopp มี Usopp\n",
            "Usopp มี Brook\n",
            "Usopp มี Robin\n",
            "Usopp มี Onepiece1\n",
            "Brook มี Luffy\n",
            "Brook มี Zoro\n",
            "Brook มี Sunji\n",
            "Brook มี Nami\n",
            "Brook มี Usopp\n",
            "Brook มี Brook\n",
            "Brook มี Robin\n",
            "Brook มี Onepiece1\n",
            "Robin มี Luffy\n",
            "Robin มี Zoro\n",
            "Robin มี Sunji\n",
            "Robin มี Nami\n",
            "Robin มี Usopp\n",
            "Robin มี Brook\n",
            "Robin มี Robin\n",
            "Robin มี Onepiece1\n",
            "Onepiece1 มี Luffy\n",
            "Onepiece1 มี Zoro\n",
            "Onepiece1 มี Sunji\n",
            "Onepiece1 มี Nami\n",
            "Onepiece1 มี Usopp\n",
            "Onepiece1 มี Brook\n",
            "Onepiece1 มี Robin\n",
            "Onepiece1 มี Onepiece1\n"
          ],
          "name": "stdout"
        }
      ]
    },
    {
      "cell_type": "code",
      "metadata": {
        "id": "obvq6PUSf57g",
        "outputId": "560ff4a6-0f64-49ce-d5d4-eb2b277d9f4b",
        "colab": {
          "base_uri": "https://localhost:8080/"
        }
      },
      "source": [
        "for name1 in list_onepiece :\r\n",
        "     for name2 in list_onepiece :\r\n",
        "          if name1 != name2 : #ไม่ปริ้นชื่อคนเดียวซ้ำ\r\n",
        "                  print(name1,'มี',name2)"
      ],
      "execution_count": 58,
      "outputs": [
        {
          "output_type": "stream",
          "text": [
            "Luffy มี Zoro\n",
            "Luffy มี Sunji\n",
            "Luffy มี Nami\n",
            "Luffy มี Usopp\n",
            "Luffy มี Brook\n",
            "Luffy มี Robin\n",
            "Luffy มี Onepiece1\n",
            "Zoro มี Luffy\n",
            "Zoro มี Sunji\n",
            "Zoro มี Nami\n",
            "Zoro มี Usopp\n",
            "Zoro มี Brook\n",
            "Zoro มี Robin\n",
            "Zoro มี Onepiece1\n",
            "Sunji มี Luffy\n",
            "Sunji มี Zoro\n",
            "Sunji มี Nami\n",
            "Sunji มี Usopp\n",
            "Sunji มี Brook\n",
            "Sunji มี Robin\n",
            "Sunji มี Onepiece1\n",
            "Nami มี Luffy\n",
            "Nami มี Zoro\n",
            "Nami มี Sunji\n",
            "Nami มี Usopp\n",
            "Nami มี Brook\n",
            "Nami มี Robin\n",
            "Nami มี Onepiece1\n",
            "Usopp มี Luffy\n",
            "Usopp มี Zoro\n",
            "Usopp มี Sunji\n",
            "Usopp มี Nami\n",
            "Usopp มี Brook\n",
            "Usopp มี Robin\n",
            "Usopp มี Onepiece1\n",
            "Brook มี Luffy\n",
            "Brook มี Zoro\n",
            "Brook มี Sunji\n",
            "Brook มี Nami\n",
            "Brook มี Usopp\n",
            "Brook มี Robin\n",
            "Brook มี Onepiece1\n",
            "Robin มี Luffy\n",
            "Robin มี Zoro\n",
            "Robin มี Sunji\n",
            "Robin มี Nami\n",
            "Robin มี Usopp\n",
            "Robin มี Brook\n",
            "Robin มี Onepiece1\n",
            "Onepiece1 มี Luffy\n",
            "Onepiece1 มี Zoro\n",
            "Onepiece1 มี Sunji\n",
            "Onepiece1 มี Nami\n",
            "Onepiece1 มี Usopp\n",
            "Onepiece1 มี Brook\n",
            "Onepiece1 มี Robin\n"
          ],
          "name": "stdout"
        }
      ]
    },
    {
      "cell_type": "code",
      "metadata": {
        "id": "etkwnnaqf543",
        "outputId": "e03c1bb6-db26-487e-efc2-536c65e22a6d",
        "colab": {
          "base_uri": "https://localhost:8080/"
        }
      },
      "source": [
        "for name1 in list_onepiece :\r\n",
        "     for name2 in list_onepiece :\r\n",
        "          if name1 == name2 : #ปริ้นชื่อคนเดียวซ้ำ\r\n",
        "                  print(name1,'มี',name2)"
      ],
      "execution_count": 59,
      "outputs": [
        {
          "output_type": "stream",
          "text": [
            "Luffy มี Luffy\n",
            "Zoro มี Zoro\n",
            "Sunji มี Sunji\n",
            "Nami มี Nami\n",
            "Usopp มี Usopp\n",
            "Brook มี Brook\n",
            "Robin มี Robin\n",
            "Onepiece1 มี Onepiece1\n"
          ],
          "name": "stdout"
        }
      ]
    },
    {
      "cell_type": "code",
      "metadata": {
        "id": "XwTQ2DYjf51K",
        "outputId": "c03387c1-229f-4724-e558-096bd143f150",
        "colab": {
          "base_uri": "https://localhost:8080/"
        }
      },
      "source": [
        "for name1 in list_onepiece :\r\n",
        "     for name2 in list_onepiece :\r\n",
        "          if name1 == name2 : \r\n",
        "               'do nothing'       #ถ้าว่างไว้มันเออเร้อ\r\n",
        "          else:\r\n",
        "                  print(name1,'มี',name2)"
      ],
      "execution_count": 60,
      "outputs": [
        {
          "output_type": "stream",
          "text": [
            "Luffy มี Zoro\n",
            "Luffy มี Sunji\n",
            "Luffy มี Nami\n",
            "Luffy มี Usopp\n",
            "Luffy มี Brook\n",
            "Luffy มี Robin\n",
            "Luffy มี Onepiece1\n",
            "Zoro มี Luffy\n",
            "Zoro มี Sunji\n",
            "Zoro มี Nami\n",
            "Zoro มี Usopp\n",
            "Zoro มี Brook\n",
            "Zoro มี Robin\n",
            "Zoro มี Onepiece1\n",
            "Sunji มี Luffy\n",
            "Sunji มี Zoro\n",
            "Sunji มี Nami\n",
            "Sunji มี Usopp\n",
            "Sunji มี Brook\n",
            "Sunji มี Robin\n",
            "Sunji มี Onepiece1\n",
            "Nami มี Luffy\n",
            "Nami มี Zoro\n",
            "Nami มี Sunji\n",
            "Nami มี Usopp\n",
            "Nami มี Brook\n",
            "Nami มี Robin\n",
            "Nami มี Onepiece1\n",
            "Usopp มี Luffy\n",
            "Usopp มี Zoro\n",
            "Usopp มี Sunji\n",
            "Usopp มี Nami\n",
            "Usopp มี Brook\n",
            "Usopp มี Robin\n",
            "Usopp มี Onepiece1\n",
            "Brook มี Luffy\n",
            "Brook มี Zoro\n",
            "Brook มี Sunji\n",
            "Brook มี Nami\n",
            "Brook มี Usopp\n",
            "Brook มี Robin\n",
            "Brook มี Onepiece1\n",
            "Robin มี Luffy\n",
            "Robin มี Zoro\n",
            "Robin มี Sunji\n",
            "Robin มี Nami\n",
            "Robin มี Usopp\n",
            "Robin มี Brook\n",
            "Robin มี Onepiece1\n",
            "Onepiece1 มี Luffy\n",
            "Onepiece1 มี Zoro\n",
            "Onepiece1 มี Sunji\n",
            "Onepiece1 มี Nami\n",
            "Onepiece1 มี Usopp\n",
            "Onepiece1 มี Brook\n",
            "Onepiece1 มี Robin\n"
          ],
          "name": "stdout"
        }
      ]
    },
    {
      "cell_type": "markdown",
      "metadata": {
        "id": "ipVIZb2YhJtm"
      },
      "source": [
        "==,!= (สองอันไม่เท่ากันหรือเปล่า),>=,<=,<,>"
      ]
    },
    {
      "cell_type": "code",
      "metadata": {
        "id": "KEXDy-C-f5vp",
        "outputId": "656677b1-6a79-4418-e262-0851b6c6ef14",
        "colab": {
          "base_uri": "https://localhost:8080/"
        }
      },
      "source": [
        "'ิLuffy' == 'Zoro'"
      ],
      "execution_count": 61,
      "outputs": [
        {
          "output_type": "execute_result",
          "data": {
            "text/plain": [
              "False"
            ]
          },
          "metadata": {
            "tags": []
          },
          "execution_count": 61
        }
      ]
    },
    {
      "cell_type": "code",
      "metadata": {
        "id": "qSTbzhnsf5tD",
        "outputId": "c2ecb1f1-3155-4fda-e5b6-3118d3e792a4",
        "colab": {
          "base_uri": "https://localhost:8080/"
        }
      },
      "source": [
        "'Sunji' != 'Brook'"
      ],
      "execution_count": 62,
      "outputs": [
        {
          "output_type": "execute_result",
          "data": {
            "text/plain": [
              "True"
            ]
          },
          "metadata": {
            "tags": []
          },
          "execution_count": 62
        }
      ]
    },
    {
      "cell_type": "markdown",
      "metadata": {
        "id": "gsa7Dk5PhVMw"
      },
      "source": [
        "\r\n",
        "\r\n",
        "```\r\n",
        "# มีการจัดรูปแบบเป็นโค้ด\r\n",
        "```\r\n",
        "\r\n",
        "#### หากหลังเงื่อนไข True ถูกต้องจะทำการ print ข้อความออกมาว่า Yes"
      ]
    },
    {
      "cell_type": "code",
      "metadata": {
        "id": "z4vBczNaf5qf",
        "outputId": "e6b45d45-a4d0-415a-9eda-214e6bdf36db",
        "colab": {
          "base_uri": "https://localhost:8080/"
        }
      },
      "source": [
        "if True:\r\n",
        "    print('Yes')"
      ],
      "execution_count": 63,
      "outputs": [
        {
          "output_type": "stream",
          "text": [
            "Yes\n"
          ],
          "name": "stdout"
        }
      ]
    },
    {
      "cell_type": "code",
      "metadata": {
        "id": "2oWFpRCcf5iy"
      },
      "source": [
        "if False:\r\n",
        "   print('No')"
      ],
      "execution_count": 64,
      "outputs": []
    },
    {
      "cell_type": "markdown",
      "metadata": {
        "id": "s-w80bqkhZQ_"
      },
      "source": [
        "#### หากหลังเงื่อนไข False ไม่ถูกต้องจะไม่ปริ้นข้อความใดๆออกมา\r\n",
        "#### ซึ่งจะต้องใช้เงื่อนไขนี้ จึงจะได้ปริ้นค่าเงื่อนไขนั้นออกมา ดังนี้"
      ]
    },
    {
      "cell_type": "code",
      "metadata": {
        "id": "VZWsxVJqf5hN",
        "outputId": "f3c0c28a-4044-48aa-986b-61a143efb848",
        "colab": {
          "base_uri": "https://localhost:8080/"
        }
      },
      "source": [
        "if False:\r\n",
        "    print('Yes')\r\n",
        "else:\r\n",
        "    print('No')"
      ],
      "execution_count": 65,
      "outputs": [
        {
          "output_type": "stream",
          "text": [
            "No\n"
          ],
          "name": "stdout"
        }
      ]
    },
    {
      "cell_type": "markdown",
      "metadata": {
        "id": "xLZEEw1khcl2"
      },
      "source": [
        "# HW\r\n",
        "#### เขียน function ตัดเกรด โดยที่ input เป็นคะแนน(0-100) , output เป็นเกรด (F-A)\r\n",
        "#### วนลูปตัดเกรด input = [1,50,65,90,101,-5,49]"
      ]
    },
    {
      "cell_type": "markdown",
      "metadata": {
        "id": "THRsF5BShf_R"
      },
      "source": [
        "##### กำหนด\r\n",
        "      ถ้าคะแนนอยู่ระหว่างมากกว่าหรือเท่ากับ  0  แต่น้อยกว่า 50 จะได้เกรด F\r\n",
        "      ถ้าคะแนนอยู่ระหว่างมากกว่าหรือเท่ากับ 50 แต่น้อยกว่า 55 จะได้เกรด D\r\n",
        "      ถ้าคะแนนอยู่ระหว่างมากกว่าหรือเท่ากับ 55 แต่น้อยกว่า 60 จะได้เกรด D+\r\n",
        "      ถ้าคะแนนอยู่ระหว่างมากกว่าหรือเท่ากับ 60 แต่น้อยกว่า 65 จะได้เกรด C\r\n",
        "      ถ้าคะแนนอยู่ระหว่างมากกว่าหรือเท่ากับ 65 แต่น้อยกว่า 70 จะได้เกรด C+\r\n",
        "      ถ้าคะแนนอยู่ระหว่างมากกว่าหรือเท่ากับ 70 แต่น้อยกว่า 75 จะได้เกรด B\r\n",
        "      ถ้าคะแนนอยู่ระหว่างมากกว่าหรือเท่ากับ 75 แต่น้อยกว่า 80 จะได้เกรด B+\r\n",
        "      ถ้าคะแนนอยู่ระหว่างมากกว่าหรือเท่ากับ 80  จะได้เกรด A\r\n",
        "      แต่ว่าค่าคะแนนจะต้องไม่ต่ำกว่า 0 และมากกว่า 100 ไม่งั้นจะเกิด error"
      ]
    },
    {
      "cell_type": "code",
      "metadata": {
        "id": "ow__ke_of5d5"
      },
      "source": [
        " def grade(score):\r\n",
        "  if score < 0 :\r\n",
        "    print('Error : คะแนนต่ำกว่า 0 ' )\r\n",
        "  if score >= 0 and score < 50:\r\n",
        "    print(f'คะแนนเท่ากับ {score}   จะได้เกรด F')\r\n",
        "  if score >= 50 and score < 55:\r\n",
        "    print(f'คะแนนเท่ากับ {score}   จะได้เกรด D')\r\n",
        "  if score >= 55 and score < 60:\r\n",
        "    print(f'คะแนนเท่ากับ {score}   จะได้เกรด D+')\r\n",
        "  if score >= 60 and score < 65:\r\n",
        "    print(f'คะแนนเท่ากับ {score}   จะได้เกรด C')\r\n",
        "  if score >= 65 and score < 70:\r\n",
        "    print(f'คะแนนเท่ากับ {score}   จะได้เกรด C+')\r\n",
        "  if score >= 70 and score < 75:\r\n",
        "    print(f'คะแนนเท่ากับ {score}   จะได้เกรด B')\r\n",
        "  if score >= 75 and score < 80:\r\n",
        "    print(f'คะแนนเท่ากับ {score}   จะได้เกรด B+')\r\n",
        "  if score >= 80 and score < 100:\r\n",
        "    print(f'คะแนนเท่ากับ {score}   จะได้เกรด A')\r\n",
        "  if  score > 100 :\r\n",
        "    print('Error : คะแนนมากกว่า 100 ')"
      ],
      "execution_count": 66,
      "outputs": []
    },
    {
      "cell_type": "code",
      "metadata": {
        "id": "CH5Lya9Uf5bv",
        "outputId": "976f3f93-ea0f-4da5-aa33-30be34710cb3",
        "colab": {
          "base_uri": "https://localhost:8080/"
        }
      },
      "source": [
        "for s in [1,50,65,90,101,-5,49]:\r\n",
        "  grade(s)"
      ],
      "execution_count": 67,
      "outputs": [
        {
          "output_type": "stream",
          "text": [
            "คะแนนเท่ากับ 1   จะได้เกรด F\n",
            "คะแนนเท่ากับ 50   จะได้เกรด D\n",
            "คะแนนเท่ากับ 65   จะได้เกรด C+\n",
            "คะแนนเท่ากับ 90   จะได้เกรด A\n",
            "Error : คะแนนมากกว่า 100 \n",
            "Error : คะแนนต่ำกว่า 0 \n",
            "คะแนนเท่ากับ 49   จะได้เกรด F\n"
          ],
          "name": "stdout"
        }
      ]
    },
    {
      "cell_type": "code",
      "metadata": {
        "id": "Q_Uw6nEPf5ZC"
      },
      "source": [
        "def gradeV3(x):\r\n",
        "  if   (x>100) : print('Error')\r\n",
        "  elif (x>=80) : print('A')\r\n",
        "  elif (x>=75) : print('B+')\r\n",
        "  elif (x>=70) : print('B')\r\n",
        "  elif (x>=65) : print('C+')\r\n",
        "  elif (x>=60) : print('C')\r\n",
        "  elif (x>=55) : print('D+')\r\n",
        "  elif (x>=50) : print('D')\r\n",
        "  elif (x>=1) : print('F')\r\n",
        "  elif (x<0) : print('Error')"
      ],
      "execution_count": 68,
      "outputs": []
    },
    {
      "cell_type": "code",
      "metadata": {
        "id": "zkAFYSyzhj74",
        "outputId": "df8ee09d-cff2-4e34-eaf9-32045fe8dcef",
        "colab": {
          "base_uri": "https://localhost:8080/"
        }
      },
      "source": [
        "for x in [1,50,65,90,101,-5,49]:\r\n",
        "  gradeV3(x)"
      ],
      "execution_count": 69,
      "outputs": [
        {
          "output_type": "stream",
          "text": [
            "F\n",
            "D\n",
            "C+\n",
            "A\n",
            "Error\n",
            "Error\n",
            "F\n"
          ],
          "name": "stdout"
        }
      ]
    },
    {
      "cell_type": "code",
      "metadata": {
        "id": "dM8-dtuDhj1u"
      },
      "source": [
        ""
      ],
      "execution_count": null,
      "outputs": []
    },
    {
      "cell_type": "code",
      "metadata": {
        "id": "EAeIIQxehjwY"
      },
      "source": [
        ""
      ],
      "execution_count": null,
      "outputs": []
    },
    {
      "cell_type": "code",
      "metadata": {
        "id": "7Z0JALN_hjtt"
      },
      "source": [
        ""
      ],
      "execution_count": null,
      "outputs": []
    },
    {
      "cell_type": "code",
      "metadata": {
        "id": "c8EkHIAUhjnd"
      },
      "source": [
        ""
      ],
      "execution_count": null,
      "outputs": []
    },
    {
      "cell_type": "code",
      "metadata": {
        "id": "LP9NW5sUhjig"
      },
      "source": [
        ""
      ],
      "execution_count": null,
      "outputs": []
    }
  ]
}