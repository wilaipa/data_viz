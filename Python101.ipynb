{
  "nbformat": 4,
  "nbformat_minor": 0,
  "metadata": {
    "colab": {
      "name": "Python101.ipynb",
      "provenance": [],
      "authorship_tag": "ABX9TyPR0MfVPR3YjLlwwvjGBHab",
      "include_colab_link": true
    },
    "kernelspec": {
      "name": "python3",
      "display_name": "Python 3"
    }
  },
  "cells": [
    {
      "cell_type": "markdown",
      "metadata": {
        "id": "view-in-github",
        "colab_type": "text"
      },
      "source": [
        "<a href=\"https://colab.research.google.com/github/wilaipa/data_viz/blob/main/Python101.ipynb\" target=\"_parent\"><img src=\"https://colab.research.google.com/assets/colab-badge.svg\" alt=\"Open In Colab\"/></a>"
      ]
    },
    {
      "cell_type": "markdown",
      "metadata": {
        "id": "VqgMu2JdLap1"
      },
      "source": [
        "# Variables\r\n"
      ]
    },
    {
      "cell_type": "code",
      "metadata": {
        "colab": {
          "base_uri": "https://localhost:8080/"
        },
        "id": "mvkUhRgMstni",
        "outputId": "96834436-7a1c-4ffc-aac8-6e3363c29ace"
      },
      "source": [
        "3.14159265359"
      ],
      "execution_count": 1,
      "outputs": [
        {
          "output_type": "execute_result",
          "data": {
            "text/plain": [
              "3.14159265359"
            ]
          },
          "metadata": {
            "tags": []
          },
          "execution_count": 1
        }
      ]
    },
    {
      "cell_type": "markdown",
      "metadata": {
        "id": "_qtpEw3pLneF"
      },
      "source": [
        "หลักการตั้งชื่อตัวแปรเบื้องต้น\r\n",
        "\r\n",
        "1.   ตั้งให้สื่อ\r\n",
        "2.   ภาษาอังกฤษ\r\n",
        "3.   ใช้ตัวเลขได้แต่ห้ามขึ้นต้นด้วยตัวเลข\r\n",
        "4.   ห้ามเว้นวรรค"
      ]
    },
    {
      "cell_type": "code",
      "metadata": {
        "id": "BXLD4f0IL6Fa"
      },
      "source": [
        "pi = 3.14159265359"
      ],
      "execution_count": 2,
      "outputs": []
    },
    {
      "cell_type": "code",
      "metadata": {
        "colab": {
          "base_uri": "https://localhost:8080/"
        },
        "id": "VdLMebqAL7tK",
        "outputId": "8b5c70a0-6da2-4a57-c25b-0380d2a5d170"
      },
      "source": [
        "pi"
      ],
      "execution_count": 3,
      "outputs": [
        {
          "output_type": "execute_result",
          "data": {
            "text/plain": [
              "3.14159265359"
            ]
          },
          "metadata": {
            "tags": []
          },
          "execution_count": 3
        }
      ]
    },
    {
      "cell_type": "markdown",
      "metadata": {
        "id": "1_siPb49Mq32"
      },
      "source": [
        "### int : จำนวนเต็ม"
      ]
    },
    {
      "cell_type": "code",
      "metadata": {
        "id": "CZhXed2CMr-Y"
      },
      "source": [
        "a = 10"
      ],
      "execution_count": 4,
      "outputs": []
    },
    {
      "cell_type": "code",
      "metadata": {
        "colab": {
          "base_uri": "https://localhost:8080/"
        },
        "id": "yguxR88eTOLF",
        "outputId": "037b4dac-f9ce-446c-81e7-53a0c04d11c4"
      },
      "source": [
        "print(a)"
      ],
      "execution_count": 5,
      "outputs": [
        {
          "output_type": "stream",
          "text": [
            "10\n"
          ],
          "name": "stdout"
        }
      ]
    },
    {
      "cell_type": "markdown",
      "metadata": {
        "id": "rhKJW9plXvYp"
      },
      "source": [
        "### float : จำนวนจริง (ทศนิยม)"
      ]
    },
    {
      "cell_type": "code",
      "metadata": {
        "colab": {
          "base_uri": "https://localhost:8080/"
        },
        "id": "2V7-_WvTXxsU",
        "outputId": "b2bc2f50-b738-4c20-f67f-faf4d7e92724"
      },
      "source": [
        "b = 10.\r\n",
        "print(b)"
      ],
      "execution_count": 6,
      "outputs": [
        {
          "output_type": "stream",
          "text": [
            "10.0\n"
          ],
          "name": "stdout"
        }
      ]
    },
    {
      "cell_type": "markdown",
      "metadata": {
        "id": "nChqI7W8TT1h"
      },
      "source": [
        "###  ตัวอักษร (char (character)) ข้อความ (text หรือ string) "
      ]
    },
    {
      "cell_type": "markdown",
      "metadata": {
        "id": "6zQWzFJCTXpl"
      },
      "source": [
        ".. # hashtag, sharp ใช้สำหรับคอมเม้น"
      ]
    },
    {
      "cell_type": "code",
      "metadata": {
        "colab": {
          "base_uri": "https://localhost:8080/"
        },
        "id": "QlY_BU1gTU6S",
        "outputId": "731a6bd6-c167-4f4c-ea3e-78f6f35884f3"
      },
      "source": [
        "c = 'วิไลภา'   # เราจะบอกว่าตัวแปรเป็นตัวอักษรหรือข้อความโดยการใช้ single quote ' หรือ double quote \" ล้อมรอบ \r\n",
        "print(c)"
      ],
      "execution_count": 7,
      "outputs": [
        {
          "output_type": "stream",
          "text": [
            "วิไลภา\n"
          ],
          "name": "stdout"
        }
      ]
    },
    {
      "cell_type": "markdown",
      "metadata": {
        "id": "7cKwwH6RTe52"
      },
      "source": [
        "### ตัวเลขที่เป็น string ไม่สามารถเอามา + - x / กับตัวเลขได้"
      ]
    },
    {
      "cell_type": "code",
      "metadata": {
        "colab": {
          "base_uri": "https://localhost:8080/"
        },
        "id": "eL1cE2eAUQvt",
        "outputId": "e4e4ef76-755e-4afd-bdc3-73b9a6456e78"
      },
      "source": [
        "d = '10'\r\n",
        "print(d)"
      ],
      "execution_count": 8,
      "outputs": [
        {
          "output_type": "stream",
          "text": [
            "10\n"
          ],
          "name": "stdout"
        }
      ]
    },
    {
      "cell_type": "code",
      "metadata": {
        "colab": {
          "base_uri": "https://localhost:8080/",
          "height": 163
        },
        "id": "Ln5JQKBVUVDV",
        "outputId": "639b936d-3fc9-47f2-d1f8-b37639344129"
      },
      "source": [
        "d + 1"
      ],
      "execution_count": 9,
      "outputs": [
        {
          "output_type": "error",
          "ename": "TypeError",
          "evalue": "ignored",
          "traceback": [
            "\u001b[0;31m---------------------------------------------------------------------------\u001b[0m",
            "\u001b[0;31mTypeError\u001b[0m                                 Traceback (most recent call last)",
            "\u001b[0;32m<ipython-input-9-2d39be9af043>\u001b[0m in \u001b[0;36m<module>\u001b[0;34m()\u001b[0m\n\u001b[0;32m----> 1\u001b[0;31m \u001b[0md\u001b[0m \u001b[0;34m+\u001b[0m \u001b[0;36m1\u001b[0m\u001b[0;34m\u001b[0m\u001b[0;34m\u001b[0m\u001b[0m\n\u001b[0m",
            "\u001b[0;31mTypeError\u001b[0m: must be str, not int"
          ]
        }
      ]
    },
    {
      "cell_type": "markdown",
      "metadata": {
        "id": "VS5YB200UXnl"
      },
      "source": [
        "### variable casting (การเปลี่ยนชนิดของข้อมูล)"
      ]
    },
    {
      "cell_type": "code",
      "metadata": {
        "id": "uGKekiAOUZ8z"
      },
      "source": [
        "int(d) + 1"
      ],
      "execution_count": null,
      "outputs": []
    },
    {
      "cell_type": "code",
      "metadata": {
        "id": "6pBFKTTuUeN-"
      },
      "source": [
        "print(a)\r\n",
        "print(float(a))\r\n",
        "print(str(a))"
      ],
      "execution_count": null,
      "outputs": []
    },
    {
      "cell_type": "markdown",
      "metadata": {
        "id": "tnA2fG89Uhmh"
      },
      "source": [
        "# Operation (Operators +,-,*,/,%)"
      ]
    },
    {
      "cell_type": "code",
      "metadata": {
        "id": "zEHj5A73UjmQ"
      },
      "source": [
        "a+b"
      ],
      "execution_count": null,
      "outputs": []
    },
    {
      "cell_type": "code",
      "metadata": {
        "id": "mRtDqlNrUlKI"
      },
      "source": [
        "ab = a+b\r\n",
        "print(ab)"
      ],
      "execution_count": null,
      "outputs": []
    },
    {
      "cell_type": "markdown",
      "metadata": {
        "id": "swNAgokYUmn-"
      },
      "source": [
        "#### % คือหมาย modulo"
      ]
    },
    {
      "cell_type": "code",
      "metadata": {
        "id": "AHtk5giTUpKc"
      },
      "source": [
        "5%3"
      ],
      "execution_count": null,
      "outputs": []
    },
    {
      "cell_type": "code",
      "metadata": {
        "id": "tzLZRuuoUqr6"
      },
      "source": [
        "7%3"
      ],
      "execution_count": null,
      "outputs": []
    },
    {
      "cell_type": "markdown",
      "metadata": {
        "id": "6eazxxuuUsnA"
      },
      "source": [
        "### คำสั่ง print แบบพิเศษ (การ format string)"
      ]
    },
    {
      "cell_type": "code",
      "metadata": {
        "id": "wiYOxBCzUu2o"
      },
      "source": [
        "print('ตัวแปร') #สิ่งที่อยู่ข้างในวงเล็บคือ ตัวแปร และ string"
      ],
      "execution_count": null,
      "outputs": []
    },
    {
      "cell_type": "code",
      "metadata": {
        "id": "kSsqWQa9UwmS"
      },
      "source": [
        "print(f'% คือการหารเอาเศษ เช่น 7%3 = {7%3}') # เพิ่ม f หน้า 'string' และใช้ {} ใส่ code"
      ],
      "execution_count": null,
      "outputs": []
    },
    {
      "cell_type": "code",
      "metadata": {
        "id": "aQauAnlfUwjX"
      },
      "source": [
        "print(f'% คือการหารเอาเศษ เช่น 7%3 = {7%3} \\\\\r\n",
        "        แต่\\n/ คือการหารปกติ เช่น 7/3 = {7/3}  \\\\\r\n",
        "        และ\\n// คือการหารเอาส่วน เช่น 7//3 = {7//3} \\\\\r\n",
        "        หรือ\\nใช้ int() เพื่อหารเอาส่วน เช่น int(7/3) = {int(7/3)}') # \\n คือการขึ้นบรรทัดใหม่ \\\\ ใช้ในการตัด code แต่ com จะไม่เห็น"
      ],
      "execution_count": null,
      "outputs": []
    },
    {
      "cell_type": "markdown",
      "metadata": {
        "id": "dkFWrcuTU7rG"
      },
      "source": [
        "## DATA STRUCTURE (โครงสร้างข้อมูล)"
      ]
    },
    {
      "cell_type": "markdown",
      "metadata": {
        "id": "1ixJPdzYU3PL"
      },
      "source": [
        "### List คือ การเอาตัวแปรหลายๆตัวมาเรียงกัน \r\n",
        "#### list สามารถสร้างได้ 2แบบ ดังนี้"
      ]
    },
    {
      "cell_type": "markdown",
      "metadata": {
        "id": "q1rzNHZWU-R4"
      },
      "source": [
        "#### แบบที่1 > square brackets"
      ]
    },
    {
      "cell_type": "code",
      "metadata": {
        "id": "L7jv7kRLUweg"
      },
      "source": [
        "list_a = []\r\n",
        "print(list_a)"
      ],
      "execution_count": null,
      "outputs": []
    },
    {
      "cell_type": "code",
      "metadata": {
        "id": "Nw82qttQUwb3"
      },
      "source": [
        "list_b = [1,5,'v']\r\n",
        "print(list_b)"
      ],
      "execution_count": null,
      "outputs": []
    },
    {
      "cell_type": "markdown",
      "metadata": {
        "id": "AQsFYnezVGOu"
      },
      "source": [
        "### ลำดับที่อยู่ใน list มีความสำคัญ (ลำดับใน list เริ่มจาก 0,1,2,...) "
      ]
    },
    {
      "cell_type": "code",
      "metadata": {
        "id": "sQc1lvJVVC1j"
      },
      "source": [
        "list_b[1]"
      ],
      "execution_count": null,
      "outputs": []
    },
    {
      "cell_type": "markdown",
      "metadata": {
        "id": "JCyvOug5VLOi"
      },
      "source": [
        "#### แบบที่2"
      ]
    },
    {
      "cell_type": "code",
      "metadata": {
        "id": "uexfk4QvVCyP"
      },
      "source": [
        "list_c = list()\r\n",
        "print(list_c)"
      ],
      "execution_count": null,
      "outputs": []
    },
    {
      "cell_type": "markdown",
      "metadata": {
        "id": "x4ZXopfcVCg3"
      },
      "source": [
        "## append() เพิ่มสมาชิกใน list"
      ]
    },
    {
      "cell_type": "code",
      "metadata": {
        "id": "QIFQaff-VCNW"
      },
      "source": [
        "list_b.append('u')\r\n",
        "print(list_b)"
      ],
      "execution_count": null,
      "outputs": []
    },
    {
      "cell_type": "code",
      "metadata": {
        "id": "6SBkmShOWpPZ"
      },
      "source": [
        "list_b.pop() ### ดึงสมาชิกที่สุดท้ายออกจาก list"
      ],
      "execution_count": null,
      "outputs": []
    },
    {
      "cell_type": "code",
      "metadata": {
        "id": "9CgNGdddWqzE"
      },
      "source": [
        "list_b"
      ],
      "execution_count": null,
      "outputs": []
    },
    {
      "cell_type": "code",
      "metadata": {
        "id": "mNFX6kJ0Wsmf"
      },
      "source": [
        "list_b.append(list_a)\r\n",
        "print(list_b)"
      ],
      "execution_count": null,
      "outputs": []
    },
    {
      "cell_type": "markdown",
      "metadata": {
        "id": "HRN6-kHKVB6n"
      },
      "source": [
        "## String > list of characters"
      ]
    },
    {
      "cell_type": "code",
      "metadata": {
        "id": "jat4QMfOWvcH"
      },
      "source": [
        "t = 'python is easy'\r\n",
        "t"
      ],
      "execution_count": null,
      "outputs": []
    },
    {
      "cell_type": "code",
      "metadata": {
        "id": "lYN8MlchWwZT"
      },
      "source": [
        "len(list_b) # len คือคำสั่งตรวจสอบความยาวของ list (จำนวนสมาชิก)"
      ],
      "execution_count": null,
      "outputs": []
    },
    {
      "cell_type": "code",
      "metadata": {
        "id": "r4dPGZ6QWwV8"
      },
      "source": [
        "len(t)"
      ],
      "execution_count": null,
      "outputs": []
    },
    {
      "cell_type": "markdown",
      "metadata": {
        "id": "3ti-9TApW2lv"
      },
      "source": [
        "### access a member of a list (list&string)\r\n",
        "#### โดยการเริ่มนับจะเริ่มนับจาก 0 \r\n",
        "#### 0 คือสมาชิกตัวแรก , -1 คือสมาชิกตัวสุดท้าย"
      ]
    },
    {
      "cell_type": "code",
      "metadata": {
        "id": "54vvbAkTWwTz"
      },
      "source": [
        "t[1]"
      ],
      "execution_count": null,
      "outputs": []
    },
    {
      "cell_type": "code",
      "metadata": {
        "id": "w1rMarJ1WwRt"
      },
      "source": [
        "t[-1]"
      ],
      "execution_count": null,
      "outputs": []
    },
    {
      "cell_type": "code",
      "metadata": {
        "id": "niSzZj71WwP9"
      },
      "source": [
        "t[-4]"
      ],
      "execution_count": null,
      "outputs": []
    },
    {
      "cell_type": "markdown",
      "metadata": {
        "id": "c6CnJUdgW-FX"
      },
      "source": [
        "### ตัวที่อยู่ข้างใน [ ] เราเรียกว่า index (ตัวชี้)"
      ]
    },
    {
      "cell_type": "markdown",
      "metadata": {
        "id": "kuaNEOyQXBSX"
      },
      "source": [
        "### List slicing สามารถทำได้โดยใช้ colon :\r\n",
        "[a:b] -> [a,b) \r\n",
        "![9.gif](data:image/gif;base64,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) \r\n"
      ]
    },
    {
      "cell_type": "code",
      "metadata": {
        "id": "K7-UKtVMWwM9"
      },
      "source": [
        "print(t)\r\n",
        "print(t[:6])\r\n",
        "print(t[10:])\r\n",
        "print(t[-4:])\r\n",
        "print(t[:])"
      ],
      "execution_count": null,
      "outputs": []
    },
    {
      "cell_type": "markdown",
      "metadata": {
        "id": "MSiADnmbXHQV"
      },
      "source": [
        "#### เราสามารถเอา list มาต่อกันได้ด้วย +"
      ]
    },
    {
      "cell_type": "code",
      "metadata": {
        "id": "QO7cobOpWwLI"
      },
      "source": [
        " t + '??'"
      ],
      "execution_count": null,
      "outputs": []
    },
    {
      "cell_type": "code",
      "metadata": {
        "id": "4nth30n1WwIl"
      },
      "source": [
        "t + list_b ## ไม่สามารถเอา list ปกติมาต่อกับ string ได้"
      ],
      "execution_count": null,
      "outputs": []
    },
    {
      "cell_type": "code",
      "metadata": {
        "id": "ewwgshMrXM3f"
      },
      "source": [
        "list_b + list_a"
      ],
      "execution_count": null,
      "outputs": []
    },
    {
      "cell_type": "markdown",
      "metadata": {
        "id": "zGC0IDCWXQI2"
      },
      "source": [
        "#### การแบ่ง string ตามสัญลักษณ์ที่กำหนด -> split string"
      ]
    },
    {
      "cell_type": "code",
      "metadata": {
        "id": "5hCCUZmfXSxG"
      },
      "source": [
        "t.split(' ')"
      ],
      "execution_count": null,
      "outputs": []
    },
    {
      "cell_type": "code",
      "metadata": {
        "id": "ljn9nitgXTpS"
      },
      "source": [
        "time = '12:30:15'"
      ],
      "execution_count": null,
      "outputs": []
    },
    {
      "cell_type": "code",
      "metadata": {
        "id": "oxDJQG-eXTl7"
      },
      "source": [
        "time.split(':')"
      ],
      "execution_count": null,
      "outputs": []
    },
    {
      "cell_type": "code",
      "metadata": {
        "id": "6KIwJ-YoXTjW"
      },
      "source": [
        "t_sp = t.split(' ')\r\n",
        "print(t_sp)\r\n",
        "\r\n",
        "## วิธีรวมกลับ\r\n",
        "\r\n",
        "print(':'.join(t_sp))\r\n"
      ],
      "execution_count": null,
      "outputs": []
    },
    {
      "cell_type": "markdown",
      "metadata": {
        "id": "GW647lkjXbFG"
      },
      "source": [
        "### HW คำนวณเวลาเป็นวินาทีของเวลาต่อไปนี้โดยใช้คำสั่ง split() ช่วย (print ออกมาให้สวยงาม)\r\n",
        "12:30:15\r\n",
        "\r\n",
        "13:41:07\r\n",
        "\r\n",
        "12:53:15\r\n",
        "\r\n",
        "00:59:25\r\n",
        "\r\n",
        "11:11:11\r\n",
        "\r\n",
        "16:06:09"
      ]
    },
    {
      "cell_type": "code",
      "metadata": {
        "id": "Bb9Nc4maCrRD",
        "outputId": "4d0be7b8-904e-46d1-c671-5c96b8576ffd",
        "colab": {
          "base_uri": "https://localhost:8080/"
        }
      },
      "source": [
        "T_1 = '12:30:15'\r\n",
        "T1 = time1.split(':')  \r\n",
        "H1 = int(T1[0])   #ชั่วโมง\r\n",
        "M1 = int(T1[1])   #นาที  \r\n",
        "S1 = int(T1[2])    #วินาที       \r\n",
        "Ans1 = H1*3600 + M1*60 + S1 #สูตรคำนวณเปลี่ยนเวลาเป็นวินาที\r\n",
        "print(f' เวลา {T_1} เท่ากับ {Ans1} วินาที ')"
      ],
      "execution_count": 38,
      "outputs": [
        {
          "output_type": "stream",
          "text": [
            " เวลา 12:30:15 เท่ากับ 45015 วินาที \n"
          ],
          "name": "stdout"
        }
      ]
    },
    {
      "cell_type": "code",
      "metadata": {
        "id": "NmmDYq5YDrpy",
        "outputId": "55638886-759f-4638-ab4d-cf1476e67c50",
        "colab": {
          "base_uri": "https://localhost:8080/"
        }
      },
      "source": [
        "T_2 = '13:41:07'\r\n",
        "T2 = time2.split(':')  \r\n",
        "H2 = int(T2[0])            \r\n",
        "M2 = int(T2[1])            \r\n",
        "S2 = int(T2[2])             \r\n",
        "Ans2 = H2*3600 + M2*60 + S2 \r\n",
        "print(f' เวลา {T_2} เท่ากับ {Ans2} วินาที ')"
      ],
      "execution_count": 33,
      "outputs": [
        {
          "output_type": "stream",
          "text": [
            " เวลา 13:41:07 เท่ากับ 49267 วินาที \n"
          ],
          "name": "stdout"
        }
      ]
    },
    {
      "cell_type": "code",
      "metadata": {
        "id": "ey8k1DN-Drif",
        "outputId": "f86abc77-1014-40d5-833b-69b0f53cfb18",
        "colab": {
          "base_uri": "https://localhost:8080/"
        }
      },
      "source": [
        "T_3 = '12:53:15'\r\n",
        "T3 = time3.split(':')  \r\n",
        "H3 = int(T3[0])            \r\n",
        "M3 = int(T3[1])            \r\n",
        "S3 = int(T3[2])             \r\n",
        "Ans3 = H3*3600 + M3*60 + S3 \r\n",
        "print(f' เวลา {T_3} เท่ากับ {Ans3} วินาที ')"
      ],
      "execution_count": 34,
      "outputs": [
        {
          "output_type": "stream",
          "text": [
            " เวลา 12:53:15 เท่ากับ 46395 วินาที \n"
          ],
          "name": "stdout"
        }
      ]
    },
    {
      "cell_type": "code",
      "metadata": {
        "id": "xi_BcL6uDrcZ",
        "outputId": "47378b05-e69e-45bd-fea5-25997234454b",
        "colab": {
          "base_uri": "https://localhost:8080/"
        }
      },
      "source": [
        "T_4 = '00:59:25'\r\n",
        "T4 = time4.split(':')  \r\n",
        "H4 = int(T4[0])            \r\n",
        "M4 = int(T4[1])            \r\n",
        "S4 = int(T4[2])             \r\n",
        "Ans4 = H4*3600 + M4*60 + S4\r\n",
        "print(f' เวลา {T_4} เท่ากับ {Ans4} วินาที ')"
      ],
      "execution_count": 35,
      "outputs": [
        {
          "output_type": "stream",
          "text": [
            " เวลา 00:59:25 เท่ากับ 3565 วินาที \n"
          ],
          "name": "stdout"
        }
      ]
    },
    {
      "cell_type": "code",
      "metadata": {
        "id": "iH57cBhrDrY1",
        "outputId": "5c873c5b-c3aa-4363-d14e-e7c2d80c8853",
        "colab": {
          "base_uri": "https://localhost:8080/"
        }
      },
      "source": [
        "T_5 = '11:11:11'\r\n",
        "T5 = time5.split(':')  \r\n",
        "H5 = int(T5[0])            \r\n",
        "M5 = int(T5[1])            \r\n",
        "S5 = int(T5[2])             \r\n",
        "Ans5 = H5*3600 + M5*60 + S5 \r\n",
        "print(f' เวลา {T_5} เท่ากับ {Ans5} วินาที ')"
      ],
      "execution_count": 36,
      "outputs": [
        {
          "output_type": "stream",
          "text": [
            " เวลา 11:11:11 เท่ากับ 40271 วินาที \n"
          ],
          "name": "stdout"
        }
      ]
    },
    {
      "cell_type": "code",
      "metadata": {
        "id": "v4BRdNZoDrSj",
        "outputId": "6f103e78-db99-41d7-da8f-e1a78133b8a7",
        "colab": {
          "base_uri": "https://localhost:8080/"
        }
      },
      "source": [
        "T_6 = '16:06:09'\r\n",
        "T6 = time6.split(':')  \r\n",
        "H6 = int(T6[0])            \r\n",
        "M6 = int(T6[1])            \r\n",
        "S6 = int(T6[2])             \r\n",
        "Ans6 = H6*3600 + M6*60 + S6\r\n",
        "print(f' เวลา {T_6} เท่ากับ {Ans6} วินาที ')"
      ],
      "execution_count": 37,
      "outputs": [
        {
          "output_type": "stream",
          "text": [
            " เวลา 16:06:09 เท่ากับ 57969 วินาที \n"
          ],
          "name": "stdout"
        }
      ]
    }
  ]
}