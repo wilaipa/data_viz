{
  "nbformat": 4,
  "nbformat_minor": 0,
  "metadata": {
    "colab": {
      "name": "Quiz 6.ipynb",
      "provenance": [],
      "authorship_tag": "ABX9TyM+3BKke1usj2Z7HGTyNtki",
      "include_colab_link": true
    },
    "kernelspec": {
      "name": "python3",
      "display_name": "Python 3"
    },
    "language_info": {
      "name": "python"
    }
  },
  "cells": [
    {
      "cell_type": "markdown",
      "metadata": {
        "id": "view-in-github",
        "colab_type": "text"
      },
      "source": [
        "<a href=\"https://colab.research.google.com/github/wilaipa/data_viz/blob/main/Quiz_6.ipynb\" target=\"_parent\"><img src=\"https://colab.research.google.com/assets/colab-badge.svg\" alt=\"Open In Colab\"/></a>"
      ]
    },
    {
      "cell_type": "code",
      "metadata": {
        "id": "2oRce5WF_F59"
      },
      "source": [
        "import os\n",
        "\n",
        "path = '/content/drive/My Drive/DWDM_material/search_request.csv'\n"
      ],
      "execution_count": 14,
      "outputs": []
    },
    {
      "cell_type": "code",
      "metadata": {
        "colab": {
          "base_uri": "https://localhost:8080/",
          "height": 330
        },
        "id": "nLyWXtjyGlL8",
        "outputId": "c39dc469-e7ef-4a8e-cc82-5c664aefecba"
      },
      "source": [
        "data = pd.read_csv(path)\n",
        "data.head()"
      ],
      "execution_count": 15,
      "outputs": [
        {
          "output_type": "stream",
          "text": [
            "/usr/local/lib/python3.7/dist-packages/IPython/core/interactiveshell.py:2718: DtypeWarning: Columns (7,8,9) have mixed types.Specify dtype option on import or set low_memory=False.\n",
            "  interactivity=interactivity, compiler=compiler, result=result)\n"
          ],
          "name": "stderr"
        },
        {
          "output_type": "execute_result",
          "data": {
            "text/html": [
              "<div>\n",
              "<style scoped>\n",
              "    .dataframe tbody tr th:only-of-type {\n",
              "        vertical-align: middle;\n",
              "    }\n",
              "\n",
              "    .dataframe tbody tr th {\n",
              "        vertical-align: top;\n",
              "    }\n",
              "\n",
              "    .dataframe thead th {\n",
              "        text-align: right;\n",
              "    }\n",
              "</style>\n",
              "<table border=\"1\" class=\"dataframe\">\n",
              "  <thead>\n",
              "    <tr style=\"text-align: right;\">\n",
              "      <th></th>\n",
              "      <th>Unnamed: 0</th>\n",
              "      <th>search_id</th>\n",
              "      <th>search_timestamp</th>\n",
              "      <th>user_agent</th>\n",
              "      <th>q</th>\n",
              "      <th>user_id</th>\n",
              "      <th>session_id</th>\n",
              "      <th>number_of_result</th>\n",
              "      <th>lat</th>\n",
              "      <th>long</th>\n",
              "    </tr>\n",
              "  </thead>\n",
              "  <tbody>\n",
              "    <tr>\n",
              "      <th>0</th>\n",
              "      <td>0</td>\n",
              "      <td>683de889-f923-494e-9d46-44a3d67b7259</td>\n",
              "      <td>2018-06-14 12:34:35.449</td>\n",
              "      <td>Wongnai/8.17.3 rv:8.17.3.3921 (iPhone5,4; iOS;...</td>\n",
              "      <td>NaN</td>\n",
              "      <td>NaN</td>\n",
              "      <td>5lqjjikta19d296mo7g2h1k86p</td>\n",
              "      <td>18</td>\n",
              "      <td>12.6347</td>\n",
              "      <td>101.463</td>\n",
              "    </tr>\n",
              "    <tr>\n",
              "      <th>1</th>\n",
              "      <td>1</td>\n",
              "      <td>4a811230-ffa4-4631-a4c8-5d0394137d02</td>\n",
              "      <td>2018-06-14 17:11:19.469</td>\n",
              "      <td>Mozilla/5.0 (iPhone; CPU iPhone OS 11_4 like M...</td>\n",
              "      <td>NaN</td>\n",
              "      <td>NaN</td>\n",
              "      <td>1r3iotmp0o9slom91stdt9vivc</td>\n",
              "      <td>10</td>\n",
              "      <td>14.8009</td>\n",
              "      <td>102.534</td>\n",
              "    </tr>\n",
              "    <tr>\n",
              "      <th>2</th>\n",
              "      <td>2</td>\n",
              "      <td>7ad6ee8e-438e-4bea-9183-74dcef9e358e</td>\n",
              "      <td>2018-06-14 13:22:31.736</td>\n",
              "      <td>Mozilla/5.0 (Linux; Android 7.0; SAMSUNG SM-J7...</td>\n",
              "      <td>NaN</td>\n",
              "      <td>NaN</td>\n",
              "      <td>5ci1eo4v5u9dha4ppgu94ue7p6</td>\n",
              "      <td>8</td>\n",
              "      <td>13.7383</td>\n",
              "      <td>100.371</td>\n",
              "    </tr>\n",
              "    <tr>\n",
              "      <th>3</th>\n",
              "      <td>3</td>\n",
              "      <td>0c17a5f5-fa89-40f4-ae94-a8659268f827</td>\n",
              "      <td>2018-06-02 12:37:27.331</td>\n",
              "      <td>Mozilla/5.0 (Linux; Android 7.1.1; SM-N950F Bu...</td>\n",
              "      <td>NaN</td>\n",
              "      <td>NaN</td>\n",
              "      <td>39n535qgje9kpojp0grhfj8umk</td>\n",
              "      <td>12</td>\n",
              "      <td>12.6669</td>\n",
              "      <td>101.861</td>\n",
              "    </tr>\n",
              "    <tr>\n",
              "      <th>4</th>\n",
              "      <td>4</td>\n",
              "      <td>6870dc3a-5602-44fc-80ed-df0a7783df9d</td>\n",
              "      <td>2018-06-02 11:19:22.404</td>\n",
              "      <td>Mozilla/5.0 (iPhone; CPU iPhone OS 11_3_1 like...</td>\n",
              "      <td>NaN</td>\n",
              "      <td>NaN</td>\n",
              "      <td>5pa03h6lj691to60erver1l8o4</td>\n",
              "      <td>14</td>\n",
              "      <td>12.2372</td>\n",
              "      <td>99.88</td>\n",
              "    </tr>\n",
              "  </tbody>\n",
              "</table>\n",
              "</div>"
            ],
            "text/plain": [
              "   Unnamed: 0                             search_id  ...      lat     long\n",
              "0           0  683de889-f923-494e-9d46-44a3d67b7259  ...  12.6347  101.463\n",
              "1           1  4a811230-ffa4-4631-a4c8-5d0394137d02  ...  14.8009  102.534\n",
              "2           2  7ad6ee8e-438e-4bea-9183-74dcef9e358e  ...  13.7383  100.371\n",
              "3           3  0c17a5f5-fa89-40f4-ae94-a8659268f827  ...  12.6669  101.861\n",
              "4           4  6870dc3a-5602-44fc-80ed-df0a7783df9d  ...  12.2372    99.88\n",
              "\n",
              "[5 rows x 10 columns]"
            ]
          },
          "metadata": {
            "tags": []
          },
          "execution_count": 15
        }
      ]
    },
    {
      "cell_type": "markdown",
      "metadata": {
        "id": "njK6i1y-AkOk"
      },
      "source": [
        "เปรียบเทียบจำนวน request ของช่วงเวลา 11.00-11.59 กับ 23.00-23.59\n",
        "เปรียบเทียจำนวน request ของวันจันทร์-พฤหัสบดี วันศุกร์-อาทิตย์"
      ]
    },
    {
      "cell_type": "code",
      "metadata": {
        "id": "7cUpOEHx_H-e"
      },
      "source": [
        ""
      ],
      "execution_count": 17,
      "outputs": []
    },
    {
      "cell_type": "code",
      "metadata": {
        "id": "r9snetPe_H7O"
      },
      "source": [
        ""
      ],
      "execution_count": null,
      "outputs": []
    },
    {
      "cell_type": "code",
      "metadata": {
        "id": "WRBSb-lF_H4F"
      },
      "source": [
        ""
      ],
      "execution_count": null,
      "outputs": []
    },
    {
      "cell_type": "code",
      "metadata": {
        "id": "n3Aeusic_HzO"
      },
      "source": [
        ""
      ],
      "execution_count": null,
      "outputs": []
    },
    {
      "cell_type": "code",
      "metadata": {
        "id": "qdbO86bP_HwG"
      },
      "source": [
        ""
      ],
      "execution_count": null,
      "outputs": []
    },
    {
      "cell_type": "code",
      "metadata": {
        "id": "5423RyFV_Hs-"
      },
      "source": [
        ""
      ],
      "execution_count": null,
      "outputs": []
    },
    {
      "cell_type": "code",
      "metadata": {
        "id": "1DKJvrNs_HpW"
      },
      "source": [
        ""
      ],
      "execution_count": null,
      "outputs": []
    },
    {
      "cell_type": "code",
      "metadata": {
        "id": "pt1SE2YP_HiV"
      },
      "source": [
        ""
      ],
      "execution_count": null,
      "outputs": []
    },
    {
      "cell_type": "code",
      "metadata": {
        "id": "BTmGVZzL_HcG"
      },
      "source": [
        ""
      ],
      "execution_count": null,
      "outputs": []
    }
  ]
}