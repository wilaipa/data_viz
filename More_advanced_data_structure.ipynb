{
  "nbformat": 4,
  "nbformat_minor": 0,
  "metadata": {
    "colab": {
      "name": "More advanced data structure.ipynb",
      "provenance": [],
      "authorship_tag": "ABX9TyPghfZDpYq4xKfTp3ZmzbKo",
      "include_colab_link": true
    },
    "kernelspec": {
      "name": "python3",
      "display_name": "Python 3"
    }
  },
  "cells": [
    {
      "cell_type": "markdown",
      "metadata": {
        "id": "view-in-github",
        "colab_type": "text"
      },
      "source": [
        "<a href=\"https://colab.research.google.com/github/wilaipa/data_viz/blob/main/More_advanced_data_structure.ipynb\" target=\"_parent\"><img src=\"https://colab.research.google.com/assets/colab-badge.svg\" alt=\"Open In Colab\"/></a>"
      ]
    },
    {
      "cell_type": "markdown",
      "metadata": {
        "id": "kIl6GGupnYQ-"
      },
      "source": [
        "# Dictionary\r\n",
        "สามารถ index ด้วยอะไรก็ได้ แต่ลำดับจะหายไป"
      ]
    },
    {
      "cell_type": "code",
      "metadata": {
        "id": "pweirea6lxqr"
      },
      "source": [
        "ex_dict = { ' a ' :10, '1' :1, 'start' :5} #curly brackets ในการบอกว่าเป็น dict"
      ],
      "execution_count": 1,
      "outputs": []
    },
    {
      "cell_type": "code",
      "metadata": {
        "colab": {
          "base_uri": "https://localhost:8080/"
        },
        "id": "uaxJ5EdTo7q1",
        "outputId": "2e18412f-57f0-46e5-e1b4-197813f6516d"
      },
      "source": [
        "ex_dict['start']"
      ],
      "execution_count": 2,
      "outputs": [
        {
          "output_type": "execute_result",
          "data": {
            "text/plain": [
              "5"
            ]
          },
          "metadata": {
            "tags": []
          },
          "execution_count": 2
        }
      ]
    },
    {
      "cell_type": "code",
      "metadata": {
        "id": "XCJCW_J5o7lu"
      },
      "source": [
        "ex2_dict = {1: 'one', 2 : 'two', 3: 'three'}"
      ],
      "execution_count": 3,
      "outputs": []
    },
    {
      "cell_type": "code",
      "metadata": {
        "colab": {
          "base_uri": "https://localhost:8080/",
          "height": 35
        },
        "id": "gVjke0eeo7XX",
        "outputId": "cc191b0c-d5e8-4646-cd70-00cbc7cca3f1"
      },
      "source": [
        "ex2_dict[2]"
      ],
      "execution_count": 4,
      "outputs": [
        {
          "output_type": "execute_result",
          "data": {
            "application/vnd.google.colaboratory.intrinsic+json": {
              "type": "string"
            },
            "text/plain": [
              "'two'"
            ]
          },
          "metadata": {
            "tags": []
          },
          "execution_count": 4
        }
      ]
    },
    {
      "cell_type": "markdown",
      "metadata": {
        "id": "GIuc8YgXqcBT"
      },
      "source": [
        "# การเพิ่มสมาชิกใน dict"
      ]
    },
    {
      "cell_type": "code",
      "metadata": {
        "id": "yNpu7K6LqgB2"
      },
      "source": [
        "ex2_dict[0] = 'zero'"
      ],
      "execution_count": 5,
      "outputs": []
    },
    {
      "cell_type": "code",
      "metadata": {
        "colab": {
          "base_uri": "https://localhost:8080/"
        },
        "id": "vh6g3g4Bqgcj",
        "outputId": "1c61ce34-8ac8-4208-d7cc-07a0053e4b06"
      },
      "source": [
        "ex2_dict"
      ],
      "execution_count": 6,
      "outputs": [
        {
          "output_type": "execute_result",
          "data": {
            "text/plain": [
              "{0: 'zero', 1: 'one', 2: 'two', 3: 'three'}"
            ]
          },
          "metadata": {
            "tags": []
          },
          "execution_count": 6
        }
      ]
    },
    {
      "cell_type": "markdown",
      "metadata": {
        "id": "w5TRNyFrqwQa"
      },
      "source": [
        "คำสั่งพิเศษที่ใช้บ่อย"
      ]
    },
    {
      "cell_type": "code",
      "metadata": {
        "colab": {
          "base_uri": "https://localhost:8080/"
        },
        "id": "BmR8-vGkqgZM",
        "outputId": "c6e451c0-675c-418b-e31a-e21d8a0ba4dd"
      },
      "source": [
        "ex2_dict.keys() # อยากรู้ว่าสมาชิกในนี้มีตัว index อะไรบ้าง"
      ],
      "execution_count": 7,
      "outputs": [
        {
          "output_type": "execute_result",
          "data": {
            "text/plain": [
              "dict_keys([1, 2, 3, 0])"
            ]
          },
          "metadata": {
            "tags": []
          },
          "execution_count": 7
        }
      ]
    },
    {
      "cell_type": "code",
      "metadata": {
        "colab": {
          "base_uri": "https://localhost:8080/"
        },
        "id": "vifsfZO2qgXR",
        "outputId": "b00c1b63-1536-434e-fe81-bf971760a7d0"
      },
      "source": [
        "for index in ex2_dict.keys():\r\n",
        "     print(index)"
      ],
      "execution_count": 8,
      "outputs": [
        {
          "output_type": "stream",
          "text": [
            "1\n",
            "2\n",
            "3\n",
            "0\n"
          ],
          "name": "stdout"
        }
      ]
    },
    {
      "cell_type": "code",
      "metadata": {
        "colab": {
          "base_uri": "https://localhost:8080/"
        },
        "id": "-08G44EFqgVX",
        "outputId": "79bc69b8-606c-40a1-a72b-560910c6399c"
      },
      "source": [
        "ex2_dict.values() # ให้ปริ้นค่าที่เป็นค่าของมัน"
      ],
      "execution_count": 9,
      "outputs": [
        {
          "output_type": "execute_result",
          "data": {
            "text/plain": [
              "dict_values(['one', 'two', 'three', 'zero'])"
            ]
          },
          "metadata": {
            "tags": []
          },
          "execution_count": 9
        }
      ]
    },
    {
      "cell_type": "markdown",
      "metadata": {
        "id": "OxZyEBvXs4Lu"
      },
      "source": [
        "dict เอาไปใช้ร่วมกับ dataframe ของ pandas"
      ]
    },
    {
      "cell_type": "markdown",
      "metadata": {
        "id": "M8zBMtYvtL82"
      },
      "source": [
        "# Numpy array"
      ]
    },
    {
      "cell_type": "markdown",
      "metadata": {
        "id": "4gfGdG4auAer"
      },
      "source": [
        "numpy คือ package ที่ทำงานเกี่ยวกับ array ของตัวเลข (ที่มีคนเขียนขึ้นมาและนิยมใช้)\r\n",
        "\r\n",
        "numpy -> number python"
      ]
    },
    {
      "cell_type": "code",
      "metadata": {
        "id": "SE3RaaepqgTI"
      },
      "source": [
        "import numpy #วิธีเรียกใช้งาน package \r\n"
      ],
      "execution_count": 10,
      "outputs": []
    },
    {
      "cell_type": "markdown",
      "metadata": {
        "id": "qmCu9rDlOOL_"
      },
      "source": [
        "การสร้าง numpy array"
      ]
    },
    {
      "cell_type": "code",
      "metadata": {
        "colab": {
          "base_uri": "https://localhost:8080/"
        },
        "id": "tMmXThKMqgRF",
        "outputId": "8f058774-8fd5-40cc-abb0-fb7acfb550f9"
      },
      "source": [
        "ex_2d_array = numpy.array([[5.2,3.0,4.5],[9.1,0.1,0.3]])\r\n",
        "print(ex_2d_array)"
      ],
      "execution_count": 11,
      "outputs": [
        {
          "output_type": "stream",
          "text": [
            "[[5.2 3.  4.5]\n",
            " [9.1 0.1 0.3]]\n"
          ],
          "name": "stdout"
        }
      ]
    },
    {
      "cell_type": "markdown",
      "metadata": {
        "id": "v79tkGztvGEv"
      },
      "source": [
        "การชี้ค่าใน numpy array"
      ]
    },
    {
      "cell_type": "code",
      "metadata": {
        "colab": {
          "base_uri": "https://localhost:8080/"
        },
        "id": "JZ-Gq41-qgOu",
        "outputId": "53aa540b-21e2-499f-d9d8-fbe340d8bf77"
      },
      "source": [
        "ex_2d_array[1,2] "
      ],
      "execution_count": 13,
      "outputs": [
        {
          "output_type": "execute_result",
          "data": {
            "text/plain": [
              "0.3"
            ]
          },
          "metadata": {
            "tags": []
          },
          "execution_count": 13
        }
      ]
    },
    {
      "cell_type": "code",
      "metadata": {
        "colab": {
          "base_uri": "https://localhost:8080/"
        },
        "id": "COEQiVP2wMsE",
        "outputId": "73c0c908-0c69-431b-b7b1-740b221966ed"
      },
      "source": [
        "list_x = [[5.2,3.0,4.5] , [3.1,0.1,0.3]] #การชี้ list\r\n",
        "print(len(list_x))\r\n",
        "\r\n",
        "print(list_x[1])\r\n",
        "\r\n",
        "print(list_x[1][2])\r\n"
      ],
      "execution_count": 14,
      "outputs": [
        {
          "output_type": "stream",
          "text": [
            "2\n",
            "[3.1, 0.1, 0.3]\n",
            "0.3\n"
          ],
          "name": "stdout"
        }
      ]
    },
    {
      "cell_type": "markdown",
      "metadata": {
        "id": "2JlwWVuix70U"
      },
      "source": [
        "### operations"
      ]
    },
    {
      "cell_type": "code",
      "metadata": {
        "colab": {
          "base_uri": "https://localhost:8080/"
        },
        "id": "3-syGgSlqgMP",
        "outputId": "50286fdd-b6eb-464c-fdac-8ab3335977d7"
      },
      "source": [
        "ex2_2d_array = numpy.array([[1,0,0],[0,0,1]])\r\n",
        "print(ex2_2d_array)\r\n",
        "print(ex_2d_array)"
      ],
      "execution_count": 15,
      "outputs": [
        {
          "output_type": "stream",
          "text": [
            "[[1 0 0]\n",
            " [0 0 1]]\n",
            "[[5.2 3.  4.5]\n",
            " [9.1 0.1 0.3]]\n"
          ],
          "name": "stdout"
        }
      ]
    },
    {
      "cell_type": "code",
      "metadata": {
        "colab": {
          "base_uri": "https://localhost:8080/"
        },
        "id": "YfSal5-hqgKq",
        "outputId": "4467546b-f29e-457b-a185-8bbc877168d7"
      },
      "source": [
        "ex_2d_array.shape #ตรวจสอบขนาดของ matrix"
      ],
      "execution_count": 16,
      "outputs": [
        {
          "output_type": "execute_result",
          "data": {
            "text/plain": [
              "(2, 3)"
            ]
          },
          "metadata": {
            "tags": []
          },
          "execution_count": 16
        }
      ]
    },
    {
      "cell_type": "code",
      "metadata": {
        "colab": {
          "base_uri": "https://localhost:8080/"
        },
        "id": "Ot1RoWWayjoM",
        "outputId": "2ac40a00-657a-46c3-9b51-68fc526ea4e8"
      },
      "source": [
        "ex_2d_array + ex2_2d_array"
      ],
      "execution_count": 17,
      "outputs": [
        {
          "output_type": "execute_result",
          "data": {
            "text/plain": [
              "array([[6.2, 3. , 4.5],\n",
              "       [9.1, 0.1, 1.3]])"
            ]
          },
          "metadata": {
            "tags": []
          },
          "execution_count": 17
        }
      ]
    },
    {
      "cell_type": "code",
      "metadata": {
        "colab": {
          "base_uri": "https://localhost:8080/"
        },
        "id": "E3l0M8msyjlg",
        "outputId": "6b00d894-16b6-46dc-bb32-a4ad86762aa2"
      },
      "source": [
        "list_x = [[5.2,3.0,4.5],[9.1,0.1,0.3]]\r\n",
        "list_x2 = [[1,0,0],[0,0,1]]\r\n",
        "\r\n",
        "list_x + list_x2"
      ],
      "execution_count": 18,
      "outputs": [
        {
          "output_type": "execute_result",
          "data": {
            "text/plain": [
              "[[5.2, 3.0, 4.5], [9.1, 0.1, 0.3], [1, 0, 0], [0, 0, 1]]"
            ]
          },
          "metadata": {
            "tags": []
          },
          "execution_count": 18
        }
      ]
    },
    {
      "cell_type": "code",
      "metadata": {
        "colab": {
          "base_uri": "https://localhost:8080/"
        },
        "id": "No17i6b_yjj_",
        "outputId": "65c6fdba-6639-4bf7-abb6-9658d8137528"
      },
      "source": [
        "ex_2d_array - ex2_2d_array"
      ],
      "execution_count": 19,
      "outputs": [
        {
          "output_type": "execute_result",
          "data": {
            "text/plain": [
              "array([[ 4.2,  3. ,  4.5],\n",
              "       [ 9.1,  0.1, -0.7]])"
            ]
          },
          "metadata": {
            "tags": []
          },
          "execution_count": 19
        }
      ]
    },
    {
      "cell_type": "code",
      "metadata": {
        "colab": {
          "base_uri": "https://localhost:8080/"
        },
        "id": "UX5gX-KIyjhm",
        "outputId": "275bdf50-e37b-4814-84a0-1779c2456380"
      },
      "source": [
        "ex_2d_array * ex2_2d_array #การคูณแบบ array เอาตำแหน่งเดียวกันมาคูณกัน"
      ],
      "execution_count": 23,
      "outputs": [
        {
          "output_type": "execute_result",
          "data": {
            "text/plain": [
              "array([[5.2, 0. , 0. ],\n",
              "       [0. , 0. , 0.3]])"
            ]
          },
          "metadata": {
            "tags": []
          },
          "execution_count": 23
        }
      ]
    },
    {
      "cell_type": "markdown",
      "metadata": {
        "id": "pHfWtDWh1VC3"
      },
      "source": [
        "matrix multiplication (dot product)"
      ]
    },
    {
      "cell_type": "code",
      "metadata": {
        "colab": {
          "base_uri": "https://localhost:8080/",
          "height": 197
        },
        "id": "uGLBswZsyje1",
        "outputId": "96878a57-79ef-4470-b133-51c461761622"
      },
      "source": [
        "numpy.dot(ex_2d_array,ex2_2d_array) #มันคูณกันไม่ได้เพราะหลักแถวไม่เท่ากัน"
      ],
      "execution_count": 24,
      "outputs": [
        {
          "output_type": "error",
          "ename": "ValueError",
          "evalue": "ignored",
          "traceback": [
            "\u001b[0;31m---------------------------------------------------------------------------\u001b[0m",
            "\u001b[0;31mValueError\u001b[0m                                Traceback (most recent call last)",
            "\u001b[0;32m<ipython-input-24-5e20d1f10c18>\u001b[0m in \u001b[0;36m<module>\u001b[0;34m()\u001b[0m\n\u001b[0;32m----> 1\u001b[0;31m \u001b[0mnumpy\u001b[0m\u001b[0;34m.\u001b[0m\u001b[0mdot\u001b[0m\u001b[0;34m(\u001b[0m\u001b[0mex_2d_array\u001b[0m\u001b[0;34m,\u001b[0m\u001b[0mex2_2d_array\u001b[0m\u001b[0;34m)\u001b[0m \u001b[0;31m#มันคูณกันไม่ได้เพราะหลักแถวไม่เท่ากัน\u001b[0m\u001b[0;34m\u001b[0m\u001b[0;34m\u001b[0m\u001b[0m\n\u001b[0m",
            "\u001b[0;32m<__array_function__ internals>\u001b[0m in \u001b[0;36mdot\u001b[0;34m(*args, **kwargs)\u001b[0m\n",
            "\u001b[0;31mValueError\u001b[0m: shapes (2,3) and (2,3) not aligned: 3 (dim 1) != 2 (dim 0)"
          ]
        }
      ]
    },
    {
      "cell_type": "code",
      "metadata": {
        "colab": {
          "base_uri": "https://localhost:8080/"
        },
        "id": "E8VofJWq1EOn",
        "outputId": "fcd95b80-ef72-4d2c-c705-6c4aa838d64e"
      },
      "source": [
        "print(ex_2d_array)\r\n",
        "print(ex_2d_array.T)"
      ],
      "execution_count": 25,
      "outputs": [
        {
          "output_type": "stream",
          "text": [
            "[[5.2 3.  4.5]\n",
            " [9.1 0.1 0.3]]\n",
            "[[5.2 9.1]\n",
            " [3.  0.1]\n",
            " [4.5 0.3]]\n"
          ],
          "name": "stdout"
        }
      ]
    },
    {
      "cell_type": "code",
      "metadata": {
        "colab": {
          "base_uri": "https://localhost:8080/"
        },
        "id": "pNLePamK1ELL",
        "outputId": "88cf2d5d-ce89-47c5-dc31-303a45d1dec4"
      },
      "source": [
        "numpy.dot(ex_2d_array,ex2_2d_array.T)"
      ],
      "execution_count": 26,
      "outputs": [
        {
          "output_type": "execute_result",
          "data": {
            "text/plain": [
              "array([[5.2, 4.5],\n",
              "       [9.1, 0.3]])"
            ]
          },
          "metadata": {
            "tags": []
          },
          "execution_count": 26
        }
      ]
    },
    {
      "cell_type": "code",
      "metadata": {
        "colab": {
          "base_uri": "https://localhost:8080/"
        },
        "id": "EFRJZaxL1EGb",
        "outputId": "62b9d4bc-765f-4ca8-8deb-f56dff68c064"
      },
      "source": [
        "dot_mat = numpy.dot(ex_2d_array,ex2_2d_array.T)\r\n",
        "print(dot_mat) "
      ],
      "execution_count": 29,
      "outputs": [
        {
          "output_type": "stream",
          "text": [
            "[[5.2 4.5]\n",
            " [9.1 0.3]]\n"
          ],
          "name": "stdout"
        }
      ]
    },
    {
      "cell_type": "code",
      "metadata": {
        "id": "1FUqpXCE34jG",
        "outputId": "1bac86d6-bd57-4683-c007-e4c62059aa4d",
        "colab": {
          "base_uri": "https://localhost:8080/"
        }
      },
      "source": [
        "numpy.linalg.det(dot_mat)"
      ],
      "execution_count": 30,
      "outputs": [
        {
          "output_type": "execute_result",
          "data": {
            "text/plain": [
              "-39.389999999999986"
            ]
          },
          "metadata": {
            "tags": []
          },
          "execution_count": 30
        }
      ]
    },
    {
      "cell_type": "markdown",
      "metadata": {
        "id": "pVlr6aJd3-GR"
      },
      "source": [
        "search google -> stackoverflow หรือ web ของ package สำหรับ operations อื่นๆ\r\n",
        "\r\n",
        "\r\n",
        "\r\n",
        "\r\n",
        "## metrix slicing"
      ]
    },
    {
      "cell_type": "code",
      "metadata": {
        "colab": {
          "base_uri": "https://localhost:8080/"
        },
        "id": "tRV20mau5eVb",
        "outputId": "03bbe6ed-a3ba-4428-b943-719bf6a2267b"
      },
      "source": [
        "print(ex_2d_array)"
      ],
      "execution_count": 31,
      "outputs": [
        {
          "output_type": "stream",
          "text": [
            "[[5.2 3.  4.5]\n",
            " [9.1 0.1 0.3]]\n"
          ],
          "name": "stdout"
        }
      ]
    },
    {
      "cell_type": "code",
      "metadata": {
        "colab": {
          "base_uri": "https://localhost:8080/"
        },
        "id": "Eoacm1705lno",
        "outputId": "d83afe90-3f58-4cf6-b372-99f8dfd8c606"
      },
      "source": [
        "ex_2d_array[1,1:] #ดู 0.1 กับ 0.3 ว่าอยู่แถวที่เท่าไหร่"
      ],
      "execution_count": 32,
      "outputs": [
        {
          "output_type": "execute_result",
          "data": {
            "text/plain": [
              "array([0.1, 0.3])"
            ]
          },
          "metadata": {
            "tags": []
          },
          "execution_count": 32
        }
      ]
    },
    {
      "cell_type": "code",
      "metadata": {
        "colab": {
          "base_uri": "https://localhost:8080/"
        },
        "id": "51lUZx3Y58ew",
        "outputId": "047d7037-717a-40a1-fff9-b31e65c9916e"
      },
      "source": [
        "ex_2d_array[:,:2]"
      ],
      "execution_count": 33,
      "outputs": [
        {
          "output_type": "execute_result",
          "data": {
            "text/plain": [
              "array([[5.2, 3. ],\n",
              "       [9.1, 0.1]])"
            ]
          },
          "metadata": {
            "tags": []
          },
          "execution_count": 33
        }
      ]
    },
    {
      "cell_type": "markdown",
      "metadata": {
        "id": "lbNUtKXz4bbZ"
      },
      "source": [
        "HW 5 เขียน function คูณ matrix แล้ว test กับ matrix\r\n",
        "- (2,3)*(3,2)\r\n",
        "- (4,4)*(4,1)\r\n",
        "- (2,2)*(2,2)\r\n",
        "\r\n",
        "ห้ามใช้แบบดอท ให้ทำแบบคูณกัน"
      ]
    },
    {
      "cell_type": "code",
      "metadata": {
        "id": "ng9nGSd71EEW"
      },
      "source": [
        ""
      ],
      "execution_count": null,
      "outputs": []
    },
    {
      "cell_type": "code",
      "metadata": {
        "id": "GgEMfkjd1EBP"
      },
      "source": [
        ""
      ],
      "execution_count": null,
      "outputs": []
    },
    {
      "cell_type": "code",
      "metadata": {
        "id": "d25RtlqRqgIr"
      },
      "source": [
        ""
      ],
      "execution_count": null,
      "outputs": []
    },
    {
      "cell_type": "code",
      "metadata": {
        "id": "5Ij6UTXiqgGJ"
      },
      "source": [
        ""
      ],
      "execution_count": null,
      "outputs": []
    }
  ]
}